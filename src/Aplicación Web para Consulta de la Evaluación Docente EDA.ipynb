{
 "cells": [
  {
   "cell_type": "markdown",
   "metadata": {},
   "source": [
    "<div>\n",
    "  <center>\n",
    "    <h1>Universidad de Guadalajara</h1>\n",
    "    <h2>Centro Universitario de Ciencias Económicas y Administrativas (CUCEA)</h2>\n",
    "    <h2>Análisis Exploratorio de Datos EDA para el proyecto: Aplicación Web para Consulta de la Evaluación Docente.</h2>\n",
    "    <b>Materia: </b> Desarrollo de Proyectos l <br>\n",
    "    <b>Catedrática: </b> Mtro. Victor Hugo Cuspinera Contreras.<br>\n",
    "    <b>Alumno: </b> Cristian Ulises Barenca Sotelo.<br>\n",
    "    <b>Matrícula: </b> 323018977<br>\n",
    "    <b>Correo:</b> cristian.barenca1897@alumnos.udg.mx <br>\n",
    "  </center>\n",
    "  \n",
    "  <div style=\"text-align: right;\">\n",
    "    Miércoles 16 de octubre del 2024, Manzanillo, Col.\n",
    "  </div>\n",
    "</div>    "
   ]
  },
  {
   "cell_type": "markdown",
   "metadata": {},
   "source": [
    "------"
   ]
  },
  {
   "cell_type": "markdown",
   "metadata": {},
   "source": [
    "# Introducción 🚩\n",
    "\n",
    "El EDA es una herramienta de análisis para una revisión iterativa de las bases de datos con la cual describimos las principales características usando estadística descriptiva y visualización de datos.\n",
    "\n",
    "La presente investigación propone el desarrollo de una Aplicación Web y una Base de Datos Relacional con el objetivo de optimizar los tiempos de procesamiento en consultas de información, alcanzando un tiempo promedio de respuesta inferior a 50 segundos. Esta mejora se apoya en evidencias de la literatura que destacan el impacto positivo de las técnicas de optimización en el rendimiento del hardware de Bases de Datos. \n",
    "\n",
    "En este Notebook detallaremos los resultados de la exploración del análisis EDA, sigamos 🚀...\n",
    "\n",
    "[Link de la publicación en LinkedIn](https://www.linkedin.com/posts/cristian-ulises-barenca-sotelo-50ba03183_github-cbarencaaplicacion-web-para-consulta-de-la-evaluacion-docente-activity-7252664689313091584-RBPk?utm_source=share&utm_medium=member_desktop)\n",
    "\n",
    "---"
   ]
  },
  {
   "cell_type": "markdown",
   "metadata": {},
   "source": [
    "# Contenido 📙\n",
    "\n",
    "<a href=\"#1\">1. Fuentes de datos</a><br>\n",
    "<a href=\"#2\">2. Descripción de los datos</a><br>\n",
    "<a href=\"#3\">3. Limpieza de datos</a><br>\n",
    "<a href=\"#4\">4. Missing values</a><br>\n",
    "<a href=\"#5\">5. Visualización de datos</a><br>\n",
    "<a href=\"#6\">6. Comentarios adicionales</a><br>\n",
    "<a href=\"#7\">7. Referencias</a><br>\n",
    "\n",
    "---"
   ]
  },
  {
   "cell_type": "markdown",
   "metadata": {},
   "source": [
    "# <a id=\"1\">1. Fuentes de datos<a> 🔑"
   ]
  },
  {
   "cell_type": "markdown",
   "metadata": {},
   "source": [
    "**Debido a la política de protección de datos, es importante señalar que los datos utilizados son sintéticos, generados a partir de ChatGPT 4o mini.**  \n",
    "\n",
    "La fuente de información mediante la cual creamos nuestra base de datos está compuesta por datos no estructurados en formato de texto, posteriormente se desarrolló un script SQL para la inserción de la información en las diferentes tablas que componen la base de datos, este archivo queda a su disposición en la siguiente liga: <a href=\"https://github.com/CBarenca/Aplicacion-Web-para-Consulta-de-la-Evaluacion-Docente/blob/main/data/evdoc_insert_data.sql\">clic aquí</a>.\n",
    "\n",
    "La base de datos denominada evdoc mediante la cual realizaremos este estudio, fue creada en el año 2024, cuenta con un total de 20 tablas, mencionando algunas, ejemplo: carreras, ciclos, departamentos, generos, nrc, profesores, estudiantes,resultado_encuesta_ultimo_ciclo, roles, resultado_encuesta_historico, entre otros."
   ]
  },
  {
   "cell_type": "code",
   "execution_count": 1,
   "metadata": {},
   "outputs": [],
   "source": [
    "# Importamos las librarias necesarias para el desarrollo del análisis exploratorio de datos EDA\n",
    "import mysql.connector\n",
    "import pandas as pd\n",
    "import numpy as np\n",
    "import altair as alt\n",
    "import warnings\n",
    "import re\n",
    "from datetime import datetime\n",
    "\n",
    "#< Hay distintos tipos de renderers:\n",
    "alt.renderers.enable('default') # <-es el más común pero no refleja las gráficas en GitHub\n",
    "alt.renderers.enable('jupyterlab') # <-este nos sirve para ver las gráficas en GitHub\n",
    "\n",
    "# Ignorar advertencias específicas\n",
    "warnings.filterwarnings(\"ignore\", category=UserWarning)  # Para ignorar UserWarnings\n",
    "warnings.filterwarnings(\"ignore\", category=FutureWarning)  # Para ignorar FutureWarnings"
   ]
  },
  {
   "cell_type": "code",
   "execution_count": 2,
   "metadata": {},
   "outputs": [],
   "source": [
    "# Nos conectamos a la base de datos\n",
    "conexion = mysql.connector.connect(\n",
    "    host='localhost',\n",
    "    user='root',\n",
    "    password='',\n",
    "    database='evdoc'\n",
    ")\n",
    "\n",
    "# Creamos un cursor para realizar las consultas hacia la base de datos\n",
    "cursor = conexion.cursor()"
   ]
  },
  {
   "cell_type": "markdown",
   "metadata": {},
   "source": [
    "---"
   ]
  },
  {
   "cell_type": "markdown",
   "metadata": {},
   "source": [
    "# <a id=\"2\">2. Descripción de los datos<a> 📑"
   ]
  },
  {
   "cell_type": "markdown",
   "metadata": {},
   "source": [
    "**Revisamos las tablas que componen la base de datos**"
   ]
  },
  {
   "cell_type": "code",
   "execution_count": 3,
   "metadata": {},
   "outputs": [
    {
     "name": "stdout",
     "output_type": "stream",
     "text": [
      "carreras\n",
      "centros_universitarios\n",
      "ciclos\n",
      "departamentos\n",
      "encuestas\n",
      "estatus\n",
      "estudiantes\n",
      "generos\n",
      "gestores\n",
      "nacionalidades\n",
      "niveles_educativos\n",
      "nrc\n",
      "preguntas\n",
      "profesores\n",
      "respuesta_preguntas\n",
      "resultado_encuesta_historico\n",
      "resultado_encuesta_ultimo_ciclo\n",
      "roles\n",
      "situaciones_academicas\n",
      "tipos_contratos\n"
     ]
    }
   ],
   "source": [
    "# Ejecutamos la consulta para obtener las tablas de la base de datos\n",
    "cursor.execute(\"SHOW TABLES;\")\n",
    "tablas = cursor.fetchall()\n",
    "\n",
    "# Mostramos las tablas\n",
    "for tabla in tablas:\n",
    "    print(tabla[0])"
   ]
  },
  {
   "cell_type": "markdown",
   "metadata": {},
   "source": [
    "**Revisamos los atributos e información que componen la tabla carreras**"
   ]
  },
  {
   "cell_type": "code",
   "execution_count": 4,
   "metadata": {},
   "outputs": [
    {
     "name": "stdout",
     "output_type": "stream",
     "text": [
      "------ Atributos de la tabla -------\n",
      "Nombre: id_carrera, Tipo: tinyint(4), Nulo: NO, Clave: PRI, Predeterminado: None, Extra: \n",
      "Nombre: carrera, Tipo: varchar(100), Nulo: NO, Clave: , Predeterminado: None, Extra: \n",
      "------------------------------------\n",
      "Valores de la tabla carreras\n",
      "(1, 'Ingeniería de software')\n",
      "(2, 'Ingeniería Civil')\n",
      "(3, 'Arquitectura')\n",
      "(4, 'Medicina')\n",
      "(5, 'Derecho')\n",
      "(6, 'Psicología')\n",
      "(7, 'Administración de Empresas')\n",
      "(8, 'Contaduría Pública')\n",
      "(9, 'Ingeniería Electrónica')\n",
      "(10, 'Ingeniería Industrial')\n",
      "(11, 'Biología')\n",
      "(12, 'Química')\n",
      "(13, 'Física')\n",
      "(14, 'Matemáticas')\n",
      "(15, 'Ciencias de la Computación')\n",
      "(16, 'Ingeniería Mecánica')\n",
      "(17, 'Diseño Gráfico')\n",
      "(18, 'Comunicación Social')\n",
      "(19, 'Trabajo Social')\n",
      "(20, 'Enfermería')\n"
     ]
    }
   ],
   "source": [
    "# Revisamos como esta compuesta la información de la tabla carreras\n",
    "cursor.execute('DESCRIBE carreras;')\n",
    "# Obtener resultados\n",
    "carreras = cursor.fetchall()\n",
    "print(\"------ Atributos de la tabla -------\")\n",
    "for atributo in carreras:\n",
    "    print(f\"Nombre: {atributo[0]}, Tipo: {atributo[1]}, Nulo: {atributo[2]}, Clave: {atributo[3]}, Predeterminado: {atributo[4]}, Extra: {atributo[5]}\")\n",
    "print(\"------------------------------------\")\n",
    "\n",
    "\n",
    "#Imprimimos los valores de la tabla carreras\n",
    "print(\"Valores de la tabla carreras\")\n",
    "cursor.execute('SELECT * FROM carreras;')\n",
    "# Obtener resultados\n",
    "valores_carreras = cursor.fetchall()\n",
    "for fila in valores_carreras:\n",
    "    print(fila)\n"
   ]
  },
  {
   "cell_type": "markdown",
   "metadata": {},
   "source": [
    "Como podemos apreciar, contamos con 20 carreras: Ingeniería de software, Ingeniería civil, arquitectura, medicina, derecho, por mencionar algunas."
   ]
  },
  {
   "cell_type": "markdown",
   "metadata": {},
   "source": [
    "**Revisamos los atributos e información que componen la tabla centros_universitarios**"
   ]
  },
  {
   "cell_type": "code",
   "execution_count": 5,
   "metadata": {},
   "outputs": [
    {
     "name": "stdout",
     "output_type": "stream",
     "text": [
      "------ Atributos de la tabla -------\n",
      "Nombre: id_centro_universitario, Tipo: tinyint(4), Nulo: NO, Clave: PRI, Predeterminado: None, Extra: \n",
      "Nombre: centro_universitario, Tipo: varchar(100), Nulo: NO, Clave: , Predeterminado: None, Extra: \n",
      "------------------------------------\n",
      "Valores de la tabla centros universitarios\n",
      "(1, 'Centro Universitario de Arte, Arquitectura y Diseño.')\n",
      "(2, 'Centro Universitario de Ciencias Biológicas y Agropecuarias')\n",
      "(3, 'Centro Universitario de Ciencias Económico Administrativas.')\n",
      "(4, 'Centro Universitario de Ciencias Exactas e Ingenierías.')\n",
      "(5, 'Centro Universitario de Ciencias de la Salud.')\n",
      "(6, 'Centro Universitario de los Altos.')\n",
      "(7, 'Centro Universitario de la Costa.')\n",
      "(8, 'Centro Universitario de La Ciénega.')\n",
      "(9, 'Centro Universitario de Los Lagos.')\n",
      "(10, 'Centro Universitario de la Costa Sur.')\n",
      "(11, 'Campus Universitario de Los Valles.')\n"
     ]
    }
   ],
   "source": [
    "# Revisamos como esta compuesta la información de la tabla centros_universitarios\n",
    "cursor.execute('DESCRIBE centros_universitarios;')\n",
    "# Obtener resultados\n",
    "centros_universitarios = cursor.fetchall()\n",
    "print(\"------ Atributos de la tabla -------\")\n",
    "for atributo in centros_universitarios:\n",
    "    print(f\"Nombre: {atributo[0]}, Tipo: {atributo[1]}, Nulo: {atributo[2]}, Clave: {atributo[3]}, Predeterminado: {atributo[4]}, Extra: {atributo[5]}\")\n",
    "print(\"------------------------------------\")\n",
    "\n",
    "\n",
    "#Imprimimos los valores de la tabla centros_universitarios\n",
    "print(\"Valores de la tabla centros universitarios\")\n",
    "cursor.execute('SELECT * FROM centros_universitarios;')\n",
    "# Obtener resultados\n",
    "valores_centros_universitarios = cursor.fetchall()\n",
    "for fila in valores_centros_universitarios:\n",
    "    print(fila)"
   ]
  },
  {
   "cell_type": "markdown",
   "metadata": {},
   "source": [
    "Esta universidad cuenta con 11 centros universitarios repartidos por todo el estado de Jalisco, México. "
   ]
  },
  {
   "cell_type": "markdown",
   "metadata": {},
   "source": [
    "**Revisamos los atributos e información que componen la tabla ciclos**"
   ]
  },
  {
   "cell_type": "code",
   "execution_count": 6,
   "metadata": {},
   "outputs": [
    {
     "name": "stdout",
     "output_type": "stream",
     "text": [
      "------ Atributos de la tabla -------\n",
      "Nombre: id_ciclo, Tipo: tinyint(4), Nulo: NO, Clave: PRI, Predeterminado: None, Extra: \n",
      "Nombre: ciclo, Tipo: int(6), Nulo: NO, Clave: , Predeterminado: None, Extra: \n",
      "------------------------------------\n",
      "Valores de la tabla ciclos\n",
      "(1, 202410)\n"
     ]
    }
   ],
   "source": [
    "# Revisamos como esta compuesta la información de la tabla ciclos\n",
    "cursor.execute('DESCRIBE ciclos;')\n",
    "# Obtener resultados\n",
    "ciclos = cursor.fetchall()\n",
    "print(\"------ Atributos de la tabla -------\")\n",
    "for atributo in ciclos:\n",
    "    print(f\"Nombre: {atributo[0]}, Tipo: {atributo[1]}, Nulo: {atributo[2]}, Clave: {atributo[3]}, Predeterminado: {atributo[4]}, Extra: {atributo[5]}\")\n",
    "print(\"------------------------------------\")\n",
    "\n",
    "\n",
    "#Imprimimos los valores de la tabla ciclos\n",
    "print(\"Valores de la tabla ciclos\")\n",
    "cursor.execute('SELECT * FROM ciclos;')\n",
    "# Obtener resultados\n",
    "valores_ciclos = cursor.fetchall()\n",
    "for fila in valores_ciclos:\n",
    "    print(fila)\n"
   ]
  },
  {
   "cell_type": "markdown",
   "metadata": {},
   "source": [
    "Este ciclo hace alusión al ciclo 2024A, para la eficiencia de las consultas en bases de datos relacionales es preferente utilizar números que letras."
   ]
  },
  {
   "cell_type": "markdown",
   "metadata": {},
   "source": [
    "**Revisamos los atributos e información que componen la tabla departamentos** \n"
   ]
  },
  {
   "cell_type": "code",
   "execution_count": 7,
   "metadata": {},
   "outputs": [
    {
     "name": "stdout",
     "output_type": "stream",
     "text": [
      "------ Atributos de la tabla -------\n",
      "Nombre: id_departamento, Tipo: tinyint(4), Nulo: NO, Clave: PRI, Predeterminado: None, Extra: \n",
      "Nombre: departamentos, Tipo: varchar(100), Nulo: NO, Clave: , Predeterminado: None, Extra: \n",
      "------------------------------------\n",
      "Valores de la tabla departamentos\n",
      "(1, 'Recursos Humanos')\n",
      "(2, 'Finanzas')\n",
      "(3, 'Marketing')\n",
      "(4, 'Ventas')\n",
      "(5, 'Operaciones')\n",
      "(6, 'Tecnologías de la Información')\n",
      "(7, 'Atención al Cliente')\n",
      "(8, 'Desarrollo de Productos')\n",
      "(9, 'Investigación y Desarrollo')\n",
      "(10, 'Logística')\n",
      "(11, 'Compras')\n",
      "(12, 'Calidad')\n",
      "(13, 'Legal')\n",
      "(14, 'Comunicación Interna')\n",
      "(15, 'Formación y Capacitación')\n",
      "(16, 'Estrategia Corporativa')\n",
      "(17, 'Sistemas')\n",
      "(18, 'Seguridad y Salud Ocupacional')\n",
      "(19, 'Relaciones Públicas')\n",
      "(20, 'Auditoría Interna')\n"
     ]
    }
   ],
   "source": [
    "# Revisamos como esta compuesta la información de la tabla departamentos\n",
    "cursor.execute('DESCRIBE departamentos;')\n",
    "# Obtener resultados\n",
    "departamentos = cursor.fetchall()\n",
    "print(\"------ Atributos de la tabla -------\")\n",
    "for atributo in departamentos:\n",
    "    print(f\"Nombre: {atributo[0]}, Tipo: {atributo[1]}, Nulo: {atributo[2]}, Clave: {atributo[3]}, Predeterminado: {atributo[4]}, Extra: {atributo[5]}\")\n",
    "print(\"------------------------------------\")\n",
    "\n",
    "\n",
    "#Imprimimos los valores de la tabla departamentos\n",
    "print(\"Valores de la tabla departamentos\")\n",
    "cursor.execute('SELECT * FROM departamentos;')\n",
    "# Obtener resultados\n",
    "valores_departamentos = cursor.fetchall()\n",
    "for fila in valores_departamentos:\n",
    "    print(fila)"
   ]
  },
  {
   "cell_type": "markdown",
   "metadata": {},
   "source": [
    "En esta universidad se cuentan con 20 departamentos, los cuales albergan a los profesores y materias académicas."
   ]
  },
  {
   "cell_type": "markdown",
   "metadata": {},
   "source": [
    "**Revisamos los atributos e información que componen la tabla encuestas**"
   ]
  },
  {
   "cell_type": "code",
   "execution_count": 8,
   "metadata": {},
   "outputs": [
    {
     "name": "stdout",
     "output_type": "stream",
     "text": [
      "------ Atributos de la tabla -------\n",
      "Nombre: id_encuesta, Tipo: tinyint(4), Nulo: NO, Clave: PRI, Predeterminado: None, Extra: \n",
      "Nombre: encuesta, Tipo: varchar(100), Nulo: NO, Clave: , Predeterminado: None, Extra: \n",
      "------------------------------------\n",
      "Valores de la tabla encuestas\n",
      "(1, 'E202410')\n"
     ]
    }
   ],
   "source": [
    "# Revisamos como esta compuesta la información de la tabla encuestas\n",
    "cursor.execute('DESCRIBE encuestas;')\n",
    "# Obtener resultados\n",
    "encuestas = cursor.fetchall()\n",
    "print(\"------ Atributos de la tabla -------\")\n",
    "for atributo in encuestas:\n",
    "    print(f\"Nombre: {atributo[0]}, Tipo: {atributo[1]}, Nulo: {atributo[2]}, Clave: {atributo[3]}, Predeterminado: {atributo[4]}, Extra: {atributo[5]}\")\n",
    "print(\"------------------------------------\")\n",
    "\n",
    "\n",
    "#Imprimimos los valores de la tabla carreras\n",
    "print(\"Valores de la tabla encuestas\")\n",
    "cursor.execute('SELECT * FROM encuestas;')\n",
    "# Obtener resultados\n",
    "valores_encuestas = cursor.fetchall()\n",
    "for fila in valores_encuestas:\n",
    "    print(fila)"
   ]
  },
  {
   "cell_type": "markdown",
   "metadata": {},
   "source": [
    "Hasta este momento solo se encuentra una encuesta registrada que corresponde al ciclo 2024A."
   ]
  },
  {
   "cell_type": "markdown",
   "metadata": {},
   "source": [
    "**Revisamos los atributos e información que componen la tabla estatus**"
   ]
  },
  {
   "cell_type": "code",
   "execution_count": 9,
   "metadata": {},
   "outputs": [
    {
     "name": "stdout",
     "output_type": "stream",
     "text": [
      "------ Atributos de la tabla -------\n",
      "Nombre: id_estatus, Tipo: tinyint(4), Nulo: NO, Clave: PRI, Predeterminado: None, Extra: \n",
      "Nombre: estatus, Tipo: varchar(100), Nulo: NO, Clave: , Predeterminado: None, Extra: \n",
      "------------------------------------\n",
      "Valores de la tabla estatus\n",
      "(1, 'En licencia')\n",
      "(2, 'Activo')\n",
      "(3, 'Jubilado')\n",
      "(4, 'Intercambio')\n",
      "(5, 'Articulo 33')\n",
      "(6, 'Articulo 34')\n",
      "(7, 'Articulo 35')\n",
      "(8, 'Baja Voluntaria')\n",
      "(9, 'Baja Administrativa')\n",
      "(10, 'Desactivado')\n"
     ]
    }
   ],
   "source": [
    "# Revisamos como esta compuesta la información de la tabla estatus\n",
    "cursor.execute('DESCRIBE estatus;')\n",
    "# Obtener resultados\n",
    "estatus = cursor.fetchall()\n",
    "print(\"------ Atributos de la tabla -------\")\n",
    "for atributo in estatus:\n",
    "    print(f\"Nombre: {atributo[0]}, Tipo: {atributo[1]}, Nulo: {atributo[2]}, Clave: {atributo[3]}, Predeterminado: {atributo[4]}, Extra: {atributo[5]}\")\n",
    "print(\"------------------------------------\")\n",
    "\n",
    "\n",
    "#Imprimimos los valores de la tabla estatus\n",
    "print(\"Valores de la tabla estatus\")\n",
    "cursor.execute('SELECT * FROM estatus;')\n",
    "# Obtener resultados\n",
    "valores_estatus = cursor.fetchall()\n",
    "for fila in valores_estatus:\n",
    "    print(fila)"
   ]
  },
  {
   "cell_type": "markdown",
   "metadata": {},
   "source": [
    "Se comparten 10 estatus, aplicables para estudiantes y profesores de la universidad, que van desde en licencia hasta desactivado.\n",
    "\n",
    "* **En licencia**: El maestro o estudiante ha enviado a la coordinación de la carrera una solicitud para realizar otras actividades y retomar el plan de estudios o cargo más adelante.\n",
    "* **Activo**: El estudiante o profesor se encuentran activos para interactuar en la aplicación Web.\n",
    "* **Jubilado**: El maestro ha terminado su etapa como docente en la universidad después de laborar por un tipo determinado, avalado por la junta administrativa.\n",
    "* **Intercambio**: El maestro o estudiante realiza un intercambio en otro país.\n",
    "* **Artículo 33**: Si por cualquier circunstancia el estudiante no aprueba en ordinario, ni extraordinario una materia, tienes derecho a repetirla en el ciclo escolar inmediato siguiente, teniendo la oportunidad de aprobarla en ordinario o extraordinario, si en estas oportunidades no la aprueba, se le dará de baja de la Universidad.\n",
    "* **Artículo 34**: El estudiante que haya sido dado de baja conforme al artículo 33 podrá solicitar por escrito a la Comisión de Educación del Consejo de Centro o de Escuela, antes del inicio del ciclo inmediato siguiente en que haya sido dado de baja, una nueva oportunidad para acreditar la materia o materias que adeude.\n",
    "* **Artículo 35**: A los estudiantes que sean dados de baja de la Universidad conforme a los artículos 32, 33 y 34 de este ordenamiento, no se les autorizará su reingreso a la carrera o posgrado por el cual se les dio de baja.\n",
    "* **Baja Voluntaria**: El estudiante o el profesor dejan sus responsabilidades de la universidad de manera voluntaria.\n",
    "* **Baja Administrativa**: Haber infringido alguna de las obligaciones o reglamentos institucionales.\n",
    "* **Desactivado**: El estudiante o profesor no se encuentran activos para interactuar en la aplicación Web."
   ]
  },
  {
   "cell_type": "markdown",
   "metadata": {},
   "source": [
    "**Revisamos los atributos e información que componen la tabla estudiantes**\n"
   ]
  },
  {
   "cell_type": "code",
   "execution_count": 10,
   "metadata": {},
   "outputs": [
    {
     "name": "stdout",
     "output_type": "stream",
     "text": [
      "------ Atributos de la tabla -------\n",
      "Nombre: codigo_estudiante, Tipo: varchar(50), Nulo: NO, Clave: PRI, Predeterminado: None, Extra: \n",
      "Nombre: nombres, Tipo: varchar(100), Nulo: NO, Clave: , Predeterminado: None, Extra: \n",
      "Nombre: apellido_paterno, Tipo: varchar(100), Nulo: NO, Clave: , Predeterminado: None, Extra: \n",
      "Nombre: apellido_materno, Tipo: varchar(100), Nulo: NO, Clave: , Predeterminado: None, Extra: \n",
      "Nombre: nivel, Tipo: tinyint(4), Nulo: NO, Clave: MUL, Predeterminado: None, Extra: \n",
      "Nombre: situacion, Tipo: tinyint(4), Nulo: NO, Clave: MUL, Predeterminado: None, Extra: \n",
      "Nombre: ultimo_ciclo, Tipo: tinyint(4), Nulo: NO, Clave: MUL, Predeterminado: None, Extra: \n",
      "Nombre: ciclo_admision, Tipo: tinyint(4), Nulo: NO, Clave: MUL, Predeterminado: None, Extra: \n",
      "Nombre: genero, Tipo: tinyint(4), Nulo: NO, Clave: MUL, Predeterminado: None, Extra: \n",
      "Nombre: carrera, Tipo: tinyint(4), Nulo: NO, Clave: MUL, Predeterminado: None, Extra: \n",
      "Nombre: centro_universitario, Tipo: tinyint(4), Nulo: NO, Clave: MUL, Predeterminado: None, Extra: \n",
      "Nombre: estatus, Tipo: tinyint(4), Nulo: NO, Clave: MUL, Predeterminado: None, Extra: \n",
      "Nombre: rol, Tipo: tinyint(4), Nulo: NO, Clave: MUL, Predeterminado: None, Extra: \n",
      "Nombre: password, Tipo: varchar(255), Nulo: NO, Clave: , Predeterminado: None, Extra: \n",
      "Nombre: cambio_password, Tipo: tinyint(4), Nulo: NO, Clave: , Predeterminado: None, Extra: \n",
      "------------------------------------\n",
      "Valores de la tabla estudiantes\n",
      "('111111011', 'estudiante_011', 'eappelido_pat011', 'eappelido_mat011', 2, 4, 1, 1, 1, 1, 3, 2, 9, '$2b$12$rln.OhhvbnJurBGsPQg.OO6/jbDVUbFF/mSG/l6nhlf/.8gul4UKe', 0)\n",
      "('111111012', 'estudiante_012', 'eappelido_pat012', 'Sin Información', 1, 2, 1, 1, 2, 1, 3, 2, 9, '$2b$12$rln.OhhvbnJurBGsPQg.OO6/jbDVUbFF/mSG/l6nhlf/.8gul4UKe', 0)\n",
      "('111111013', 'estudiante_013', 'eappelido_pat013', 'eappelido_mat013', 4, 3, 1, 1, 1, 1, 3, 2, 9, '$2b$12$rln.OhhvbnJurBGsPQg.OO6/jbDVUbFF/mSG/l6nhlf/.8gul4UKe', 0)\n",
      "('111111014', 'estudiante_014', 'eappelido_pat014', 'eappelido_mat014', 2, 5, 1, 1, 2, 1, 3, 2, 9, '$2b$12$rln.OhhvbnJurBGsPQg.OO6/jbDVUbFF/mSG/l6nhlf/.8gul4UKe', 0)\n",
      "('111111015', 'estudiante_015', 'eappelido_pat015', 'Sin Información', 3, 4, 1, 1, 1, 1, 3, 2, 9, '$2b$12$rln.OhhvbnJurBGsPQg.OO6/jbDVUbFF/mSG/l6nhlf/.8gul4UKe', 0)\n",
      "('111111016', 'estudiante_016', 'eappelido_pat016', 'eappelido_mat016', 1, 2, 1, 1, 2, 1, 3, 2, 9, '$2b$12$rln.OhhvbnJurBGsPQg.OO6/jbDVUbFF/mSG/l6nhlf/.8gul4UKe', 0)\n",
      "('111111017', 'estudiante_017', 'eappelido_pat017', 'Sin Información', 4, 3, 1, 1, 1, 1, 3, 2, 9, '$2b$12$rln.OhhvbnJurBGsPQg.OO6/jbDVUbFF/mSG/l6nhlf/.8gul4UKe', 0)\n",
      "('111111018', 'estudiante_018', 'eappelido_pat018', 'eappelido_mat018', 2, 5, 1, 1, 2, 1, 3, 2, 9, '$2b$12$rln.OhhvbnJurBGsPQg.OO6/jbDVUbFF/mSG/l6nhlf/.8gul4UKe', 0)\n",
      "('111111019', 'estudiante_019', 'eappelido_pat019', 'Sin Información', 1, 4, 1, 1, 1, 1, 3, 2, 9, '$2b$12$rln.OhhvbnJurBGsPQg.OO6/jbDVUbFF/mSG/l6nhlf/.8gul4UKe', 0)\n",
      "('111111020', 'estudiante_020', 'eappelido_pat020', 'eappelido_mat020', 3, 2, 1, 1, 2, 1, 3, 2, 9, '$2b$12$rln.OhhvbnJurBGsPQg.OO6/jbDVUbFF/mSG/l6nhlf/.8gul4UKe', 0)\n",
      "('111111021', 'estudiante_021', 'eappelido_pat021', 'Sin Información', 2, 3, 1, 1, 1, 1, 3, 2, 9, '$2b$12$rln.OhhvbnJurBGsPQg.OO6/jbDVUbFF/mSG/l6nhlf/.8gul4UKe', 0)\n",
      "('111111022', 'estudiante_022', 'eappelido_pat022', 'eappelido_mat022', 1, 4, 1, 1, 2, 1, 3, 2, 9, '$2b$12$rln.OhhvbnJurBGsPQg.OO6/jbDVUbFF/mSG/l6nhlf/.8gul4UKe', 0)\n",
      "('111111110', 'estudiante_010', 'eappelido_pat010', 'eappelido_mat010', 3, 3, 1, 1, 2, 1, 3, 2, 9, '$2b$12$rln.OhhvbnJurBGsPQg.OO6/jbDVUbFF/mSG/l6nhlf/.8gul4UKe', 0)\n",
      "('111111111', 'estudiante_001', 'eappelido_pat001', 'eappelido_mat001', 2, 3, 1, 1, 1, 1, 3, 2, 9, '$2b$12$rln.OhhvbnJurBGsPQg.OO6/jbDVUbFF/mSG/l6nhlf/.8gul4UKe', 0)\n",
      "('111111112', 'estudiante_002', 'eappelido_pat002', 'eappelido_mat002', 1, 4, 1, 1, 2, 1, 3, 2, 9, '$2b$12$rln.OhhvbnJurBGsPQg.OO6/jbDVUbFF/mSG/l6nhlf/.8gul4UKe', 0)\n",
      "('111111113', 'estudiante_003', 'eappelido_pat003', 'eappelido_mat003', 3, 5, 1, 1, 1, 1, 3, 2, 9, '$2b$12$rln.OhhvbnJurBGsPQg.OO6/jbDVUbFF/mSG/l6nhlf/.8gul4UKe', 0)\n",
      "('111111114', 'estudiante_004', 'eappelido_pat004', 'eappelido_mat004', 2, 2, 1, 1, 2, 1, 3, 2, 9, '$2b$12$rln.OhhvbnJurBGsPQg.OO6/jbDVUbFF/mSG/l6nhlf/.8gul4UKe', 0)\n",
      "('111111115', 'estudiante_005', 'eappelido_pat005', 'eappelido_mat005', 4, 1, 1, 1, 1, 1, 3, 2, 9, '$2b$12$rln.OhhvbnJurBGsPQg.OO6/jbDVUbFF/mSG/l6nhlf/.8gul4UKe', 0)\n",
      "('111111116', 'estudiante_006', 'eappelido_pat006', 'eappelido_mat006', 1, 3, 1, 1, 2, 1, 3, 2, 9, '$2b$12$rln.OhhvbnJurBGsPQg.OO6/jbDVUbFF/mSG/l6nhlf/.8gul4UKe', 0)\n",
      "('111111117', 'estudiante_007', 'eappelido_pat007', 'Sin Información', 3, 4, 1, 1, 1, 1, 3, 2, 9, '$2b$12$rln.OhhvbnJurBGsPQg.OO6/jbDVUbFF/mSG/l6nhlf/.8gul4UKe', 0)\n",
      "('111111118', 'estudiante_008', 'eappelido_pat008', 'eappelido_mat008', 2, 5, 1, 1, 2, 1, 3, 2, 9, '$2b$12$rln.OhhvbnJurBGsPQg.OO6/jbDVUbFF/mSG/l6nhlf/.8gul4UKe', 0)\n",
      "('111111119', 'estudiante_009', 'eappelido_pat009', 'eappelido_mat009', 1, 2, 1, 1, 1, 1, 3, 2, 9, '$2b$12$rln.OhhvbnJurBGsPQg.OO6/jbDVUbFF/mSG/l6nhlf/.8gul4UKe', 0)\n"
     ]
    }
   ],
   "source": [
    "# Revisamos como esta compuesta la información de la tabla estudiantes\n",
    "cursor.execute('DESCRIBE estudiantes;')\n",
    "# Obtener resultados\n",
    "estudiantes = cursor.fetchall()\n",
    "print(\"------ Atributos de la tabla -------\")\n",
    "for atributo in estudiantes:\n",
    "    print(f\"Nombre: {atributo[0]}, Tipo: {atributo[1]}, Nulo: {atributo[2]}, Clave: {atributo[3]}, Predeterminado: {atributo[4]}, Extra: {atributo[5]}\")\n",
    "print(\"------------------------------------\")\n",
    "\n",
    "\n",
    "#Imprimimos los valores de la tabla estudiantes\n",
    "print(\"Valores de la tabla estudiantes\")\n",
    "cursor.execute('SELECT * FROM estudiantes;')\n",
    "# Obtener resultados\n",
    "valores_estudiantes = cursor.fetchall()\n",
    "for fila in valores_estudiantes:\n",
    "    print(fila)"
   ]
  },
  {
   "cell_type": "markdown",
   "metadata": {},
   "source": [
    "En esta universidad se encuentra el registro de 22 estudiantes hasta este momento."
   ]
  },
  {
   "cell_type": "markdown",
   "metadata": {},
   "source": [
    "**Revisamos los atributos e información que componen la tabla generos**"
   ]
  },
  {
   "cell_type": "code",
   "execution_count": 11,
   "metadata": {},
   "outputs": [
    {
     "name": "stdout",
     "output_type": "stream",
     "text": [
      "------ Atributos de la tabla -------\n",
      "Nombre: id_genero, Tipo: tinyint(4), Nulo: NO, Clave: PRI, Predeterminado: None, Extra: \n",
      "Nombre: genero, Tipo: varchar(100), Nulo: NO, Clave: , Predeterminado: None, Extra: \n",
      "------------------------------------\n",
      "Valores de la tabla generos\n",
      "(1, 'Masculino')\n",
      "(2, 'Femenino')\n"
     ]
    }
   ],
   "source": [
    "# Revisamos como esta compuesta la información de la tabla generos\n",
    "cursor.execute('DESCRIBE generos;')\n",
    "# Obtener resultados\n",
    "generos = cursor.fetchall()\n",
    "print(\"------ Atributos de la tabla -------\")\n",
    "for atributo in generos:\n",
    "    print(f\"Nombre: {atributo[0]}, Tipo: {atributo[1]}, Nulo: {atributo[2]}, Clave: {atributo[3]}, Predeterminado: {atributo[4]}, Extra: {atributo[5]}\")\n",
    "print(\"------------------------------------\")\n",
    "\n",
    "\n",
    "#Imprimimos los valores de la tabla generos\n",
    "print(\"Valores de la tabla generos\")\n",
    "cursor.execute('SELECT * FROM generos;')\n",
    "# Obtener resultados\n",
    "valores_generos = cursor.fetchall()\n",
    "for fila in valores_generos:\n",
    "    print(fila)"
   ]
  },
  {
   "cell_type": "markdown",
   "metadata": {},
   "source": [
    "Se disponen de dos géneros: Masculino y femenino para la identificación de profesores y estudiantes."
   ]
  },
  {
   "cell_type": "markdown",
   "metadata": {},
   "source": [
    "**Revisamos los atributos e información que componen la tabla gestores**"
   ]
  },
  {
   "cell_type": "code",
   "execution_count": 12,
   "metadata": {},
   "outputs": [
    {
     "name": "stdout",
     "output_type": "stream",
     "text": [
      "------ Atributos de la tabla -------\n",
      "Nombre: id_departamento, Tipo: tinyint(4), Nulo: NO, Clave: PRI, Predeterminado: None, Extra: \n",
      "Nombre: departamento, Tipo: varchar(50), Nulo: NO, Clave: , Predeterminado: None, Extra: \n",
      "Nombre: division, Tipo: varchar(10), Nulo: NO, Clave: , Predeterminado: None, Extra: \n",
      "Nombre: cordinador_carrera, Tipo: varchar(50), Nulo: NO, Clave: MUL, Predeterminado: None, Extra: \n",
      "------------------------------------\n",
      "Valores de la tabla gestores\n",
      "(1, 'Administración', 'Admon', '1111111')\n",
      "(2, 'Economía', 'Economía', '1111117')\n"
     ]
    }
   ],
   "source": [
    "# Revisamos como esta compuesta la información de la tabla carreras\n",
    "cursor.execute('DESCRIBE gestores;')\n",
    "# Obtener resultados\n",
    "gestores = cursor.fetchall()\n",
    "print(\"------ Atributos de la tabla -------\")\n",
    "for atributo in gestores:\n",
    "    print(f\"Nombre: {atributo[0]}, Tipo: {atributo[1]}, Nulo: {atributo[2]}, Clave: {atributo[3]}, Predeterminado: {atributo[4]}, Extra: {atributo[5]}\")\n",
    "print(\"------------------------------------\")\n",
    "\n",
    "\n",
    "#Imprimimos los valores de la tabla gestores\n",
    "print(\"Valores de la tabla gestores\")\n",
    "cursor.execute('SELECT * FROM gestores;')\n",
    "# Obtener resultados\n",
    "valores_gestores = cursor.fetchall()\n",
    "for fila in valores_gestores:\n",
    "    print(fila)"
   ]
  },
  {
   "cell_type": "markdown",
   "metadata": {},
   "source": [
    "Se cuenta con 2 registros con relación a los gestores de la información."
   ]
  },
  {
   "cell_type": "markdown",
   "metadata": {},
   "source": [
    "**Revisamos los atributos e información que componen la tabla nacionalidades**"
   ]
  },
  {
   "cell_type": "code",
   "execution_count": 13,
   "metadata": {},
   "outputs": [
    {
     "name": "stdout",
     "output_type": "stream",
     "text": [
      "------ Atributos de la tabla -------\n",
      "Nombre: id_nacionalidad, Tipo: tinyint(4), Nulo: NO, Clave: PRI, Predeterminado: None, Extra: \n",
      "Nombre: nacionalidad, Tipo: varchar(100), Nulo: NO, Clave: , Predeterminado: None, Extra: \n",
      "------------------------------------\n",
      "Valores de la tabla nacionalidades\n",
      "(1, 'Argentina')\n",
      "(2, 'Americana')\n",
      "(3, 'Boliviana')\n",
      "(4, 'Chilena')\n",
      "(5, 'Colombiana')\n",
      "(6, 'Costarricense')\n",
      "(7, 'Cubana')\n",
      "(8, 'Ecuatoriana')\n",
      "(9, 'Española')\n",
      "(10, 'Francesa')\n",
      "(11, 'Guatemalteca')\n",
      "(12, 'Hondureña')\n",
      "(13, 'Mexicana')\n",
      "(14, 'Nicaragüense')\n",
      "(15, 'Panameña')\n",
      "(16, 'Paraguaya')\n",
      "(17, 'Peruana')\n",
      "(18, 'Dominicana')\n",
      "(19, 'Uruguaya')\n",
      "(20, 'Venezolana')\n"
     ]
    }
   ],
   "source": [
    "# Revisamos como esta compuesta la información de la tabla nacionalidades\n",
    "cursor.execute('DESCRIBE nacionalidades;')\n",
    "# Obtener resultados\n",
    "nacionalidades = cursor.fetchall()\n",
    "print(\"------ Atributos de la tabla -------\")\n",
    "for atributo in nacionalidades:\n",
    "    print(f\"Nombre: {atributo[0]}, Tipo: {atributo[1]}, Nulo: {atributo[2]}, Clave: {atributo[3]}, Predeterminado: {atributo[4]}, Extra: {atributo[5]}\")\n",
    "print(\"------------------------------------\")\n",
    "\n",
    "\n",
    "#Imprimimos los valores de la tabla carreras\n",
    "print(\"Valores de la tabla nacionalidades\")\n",
    "cursor.execute('SELECT * FROM nacionalidades;')\n",
    "# Obtener resultados\n",
    "valores_nacionalidades = cursor.fetchall()\n",
    "for fila in valores_nacionalidades:\n",
    "    print(fila)"
   ]
  },
  {
   "cell_type": "markdown",
   "metadata": {},
   "source": [
    "Tenemos 20 nacionalidades para los profesores que nos visitan. Gracias a este análisis se discute la posibilidad de crear una relación y campo para la tabla de estudiantes, ya que se cuenta con la presencia de estudiantes de intercambio provenientes de otros países."
   ]
  },
  {
   "cell_type": "markdown",
   "metadata": {},
   "source": [
    "**Revisamos los atributos e información que componen la tabla niveles_educativos**"
   ]
  },
  {
   "cell_type": "code",
   "execution_count": 14,
   "metadata": {},
   "outputs": [
    {
     "name": "stdout",
     "output_type": "stream",
     "text": [
      "------ Atributos de la tabla -------\n",
      "Nombre: id_nivel, Tipo: tinyint(4), Nulo: NO, Clave: PRI, Predeterminado: None, Extra: \n",
      "Nombre: nivel, Tipo: varchar(100), Nulo: NO, Clave: , Predeterminado: None, Extra: \n",
      "------------------------------------\n",
      "Valores de la tabla niveles_educativos\n",
      "(1, 'Bachillerato')\n",
      "(2, 'Técnico Superior Universitario')\n",
      "(3, 'Licenciatura')\n",
      "(4, 'Maestría')\n",
      "(5, 'Doctorado')\n",
      "(6, 'Post Doctorado')\n",
      "(7, 'Especialidad')\n",
      "(8, 'Sub-Especialidad')\n"
     ]
    }
   ],
   "source": [
    "# Revisamos como esta compuesta la información de la tabla niveles_educativos\n",
    "cursor.execute('DESCRIBE niveles_educativos;')\n",
    "# Obtener resultados\n",
    "niveles_educativos = cursor.fetchall()\n",
    "print(\"------ Atributos de la tabla -------\")\n",
    "for atributo in niveles_educativos:\n",
    "    print(f\"Nombre: {atributo[0]}, Tipo: {atributo[1]}, Nulo: {atributo[2]}, Clave: {atributo[3]}, Predeterminado: {atributo[4]}, Extra: {atributo[5]}\")\n",
    "print(\"------------------------------------\")\n",
    "\n",
    "\n",
    "#Imprimimos los valores de la tabla niveles_educativos\n",
    "print(\"Valores de la tabla niveles_educativos\")\n",
    "cursor.execute('SELECT * FROM niveles_educativos;')\n",
    "# Obtener resultados\n",
    "valores_niveles_educativos = cursor.fetchall()\n",
    "for fila in valores_niveles_educativos:\n",
    "    print(fila)"
   ]
  },
  {
   "cell_type": "markdown",
   "metadata": {},
   "source": [
    "Esta tabla hace referencia al grado de estudios alcanzado por el estudiante, se discute crear la llave foránea para profesores."
   ]
  },
  {
   "cell_type": "markdown",
   "metadata": {},
   "source": [
    "**Revisamos los atributos e información que componen la tabla nrc**"
   ]
  },
  {
   "cell_type": "code",
   "execution_count": 15,
   "metadata": {},
   "outputs": [
    {
     "name": "stdout",
     "output_type": "stream",
     "text": [
      "------ Atributos de la tabla -------\n",
      "Nombre: id_nrc, Tipo: tinyint(4), Nulo: NO, Clave: , Predeterminado: None, Extra: \n",
      "Nombre: nrc, Tipo: varchar(50), Nulo: NO, Clave: PRI, Predeterminado: None, Extra: \n",
      "Nombre: codigo_profesor, Tipo: varchar(50), Nulo: NO, Clave: MUL, Predeterminado: None, Extra: \n",
      "Nombre: materia, Tipo: varchar(100), Nulo: NO, Clave: , Predeterminado: None, Extra: \n",
      "Nombre: departamento, Tipo: tinyint(4), Nulo: NO, Clave: MUL, Predeterminado: None, Extra: \n",
      "Nombre: seccion, Tipo: varchar(50), Nulo: NO, Clave: , Predeterminado: None, Extra: \n",
      "Nombre: ciclo, Tipo: tinyint(4), Nulo: NO, Clave: MUL, Predeterminado: None, Extra: \n",
      "------------------------------------\n",
      "Valores de la tabla nrc\n",
      "(1, 'NRC001', '1111111', 'Matemáticas I', 2, 'A', 1)\n",
      "(2, 'NRC002', '1111112', 'Contabilidad I', 2, 'B', 1)\n",
      "(3, 'NRC003', '1111113', 'Contabilidad II', 5, 'A', 1)\n",
      "(4, 'NRC004', '1111114', 'Administración', 4, 'C', 1)\n",
      "(5, 'NRC005', '1111115', 'Marketing', 3, 'D', 1)\n",
      "(6, 'NRC006', '1111116', 'Programación I', 6, 'E', 1)\n",
      "(7, 'NRC007', '1111117', 'Contabilidad', 2, 'F', 1)\n",
      "(8, 'NRC008', '1111118', 'Sociología', 19, 'G', 1)\n",
      "(9, 'NRC009', '1111119', 'Psicología', 19, 'H', 1)\n",
      "(10, 'NRC010', '1111120', 'Diseño Gráfico', 3, 'I', 1)\n"
     ]
    }
   ],
   "source": [
    "# Revisamos como esta compuesta la información de la tabla nrc\n",
    "cursor.execute('DESCRIBE nrc;')\n",
    "# Obtener resultados\n",
    "nrc = cursor.fetchall()\n",
    "print(\"------ Atributos de la tabla -------\")\n",
    "for atributo in nrc:\n",
    "    print(f\"Nombre: {atributo[0]}, Tipo: {atributo[1]}, Nulo: {atributo[2]}, Clave: {atributo[3]}, Predeterminado: {atributo[4]}, Extra: {atributo[5]}\")\n",
    "print(\"------------------------------------\")\n",
    "\n",
    "\n",
    "#Imprimimos los valores de la tabla nrc\n",
    "print(\"Valores de la tabla nrc\")\n",
    "cursor.execute('SELECT * FROM nrc;')\n",
    "# Obtener resultados\n",
    "valores_nrc = cursor.fetchall()\n",
    "for fila in valores_nrc:\n",
    "    print(fila)"
   ]
  },
  {
   "cell_type": "markdown",
   "metadata": {},
   "source": [
    "Hasta este momento se cuentan con 10 materias dadas de alta, asignadas a 10 profesores."
   ]
  },
  {
   "cell_type": "markdown",
   "metadata": {},
   "source": [
    "**Revisamos los atributos e información que componen la tabla preguntas**"
   ]
  },
  {
   "cell_type": "code",
   "execution_count": 16,
   "metadata": {},
   "outputs": [
    {
     "name": "stdout",
     "output_type": "stream",
     "text": [
      "------ Atributos de la tabla -------\n",
      "Nombre: id_pregunta, Tipo: tinyint(4), Nulo: NO, Clave: PRI, Predeterminado: None, Extra: \n",
      "Nombre: pregunta, Tipo: varchar(100), Nulo: NO, Clave: , Predeterminado: None, Extra: \n",
      "Nombre: ciclo_escolar, Tipo: tinyint(4), Nulo: NO, Clave: MUL, Predeterminado: None, Extra: \n",
      "------------------------------------\n",
      "Valores de la tabla preguntas\n",
      "(1, 'Puntualidad', 1)\n",
      "(2, 'Respeto', 1)\n",
      "(3, 'Educación', 1)\n",
      "(4, 'Metodología de enseñanza', 1)\n",
      "(5, 'Conocimiento del contenido', 1)\n",
      "(6, 'Comunicación', 1)\n",
      "(7, 'Adaptabilidad', 1)\n",
      "(8, 'Retroalimentación', 1)\n",
      "(9, 'Manejo del aula', 1)\n",
      "(10, 'Innovación y creatividad', 1)\n"
     ]
    }
   ],
   "source": [
    "# Revisamos como esta compuesta la información de la tabla preguntas\n",
    "cursor.execute('DESCRIBE preguntas;')\n",
    "# Obtener resultados\n",
    "preguntas = cursor.fetchall()\n",
    "print(\"------ Atributos de la tabla -------\")\n",
    "for atributo in preguntas:\n",
    "    print(f\"Nombre: {atributo[0]}, Tipo: {atributo[1]}, Nulo: {atributo[2]}, Clave: {atributo[3]}, Predeterminado: {atributo[4]}, Extra: {atributo[5]}\")\n",
    "print(\"------------------------------------\")\n",
    "\n",
    "\n",
    "#Imprimimos los valores de la tabla preguntas\n",
    "print(\"Valores de la tabla preguntas\")\n",
    "cursor.execute('SELECT * FROM preguntas;')\n",
    "# Obtener resultados\n",
    "valores_preguntas = cursor.fetchall()\n",
    "for fila in valores_preguntas:\n",
    "    print(fila)"
   ]
  },
  {
   "cell_type": "markdown",
   "metadata": {},
   "source": [
    "En esta tabla se almacenan las preguntas de esta encuesta, **Nota: Los valores que se comprenden como pregunta son las categorías que pueden ser sustituidas a preguntas posteriormente**:\n",
    "\n",
    "* **Pregunta 1**: Hace referencia a una pregunta enfocada en la puntualidad del docente.\n",
    "* **Pregunta 2**: Se enfoca la pregunta hacia el respeto del docente hacia sus estudiantes.\n",
    "* **Pregunta 3**: La importancia de la educación que recibió el estudiante.\n",
    "* **Pregunta 4**: El método de enseñanza fue de utilidad para el estudiante.\n",
    "* **Pregunta 5**: El conocimiento compartido fue de utilidad para el estudiante.\n",
    "* **Pregunta 6**: La comunicación fue asertiva.\n",
    "* **Pregunta 7**: El profesor se adaptó a las necesidades de los estudiantes.\n",
    "* **Pregunta 8**: Se le dio retroalimentación a los estudiantes sobre los trabajos entregados.\n",
    "* **Pregunta 9**: El profesor supo manejar el aula.\n",
    "* **Pregunta 10**: El profesor utilizó recursos tecnológicos en el curso."
   ]
  },
  {
   "cell_type": "markdown",
   "metadata": {},
   "source": [
    "**Revisamos los atributos e información que componen la tabla profesores**"
   ]
  },
  {
   "cell_type": "code",
   "execution_count": 17,
   "metadata": {},
   "outputs": [
    {
     "name": "stdout",
     "output_type": "stream",
     "text": [
      "------ Atributos de la tabla -------\n",
      "Nombre: codigo_profesor, Tipo: varchar(50), Nulo: NO, Clave: PRI, Predeterminado: None, Extra: \n",
      "Nombre: nombres, Tipo: varchar(100), Nulo: NO, Clave: , Predeterminado: None, Extra: \n",
      "Nombre: apellido_paterno, Tipo: varchar(100), Nulo: NO, Clave: , Predeterminado: None, Extra: \n",
      "Nombre: apellido_materno, Tipo: varchar(100), Nulo: NO, Clave: , Predeterminado: None, Extra: \n",
      "Nombre: genero, Tipo: tinyint(4), Nulo: NO, Clave: MUL, Predeterminado: None, Extra: \n",
      "Nombre: grado_estudio, Tipo: varchar(100), Nulo: NO, Clave: , Predeterminado: None, Extra: \n",
      "Nombre: SNI, Tipo: varchar(100), Nulo: NO, Clave: , Predeterminado: None, Extra: \n",
      "Nombre: departamento_adscripcion, Tipo: tinyint(4), Nulo: NO, Clave: MUL, Predeterminado: None, Extra: \n",
      "Nombre: centro_pertenencia, Tipo: tinyint(4), Nulo: NO, Clave: MUL, Predeterminado: None, Extra: \n",
      "Nombre: tipo_contrato, Tipo: tinyint(4), Nulo: NO, Clave: MUL, Predeterminado: None, Extra: \n",
      "Nombre: horas_semanales, Tipo: int(4), Nulo: NO, Clave: , Predeterminado: None, Extra: \n",
      "Nombre: nacionalidad, Tipo: tinyint(4), Nulo: NO, Clave: MUL, Predeterminado: None, Extra: \n",
      "Nombre: fecha_nacimiento, Tipo: datetime, Nulo: NO, Clave: , Predeterminado: None, Extra: \n",
      "Nombre: fecha_ingreso, Tipo: datetime, Nulo: NO, Clave: , Predeterminado: None, Extra: \n",
      "Nombre: estatus, Tipo: tinyint(4), Nulo: NO, Clave: MUL, Predeterminado: None, Extra: \n",
      "Nombre: rol, Tipo: tinyint(4), Nulo: NO, Clave: MUL, Predeterminado: None, Extra: \n",
      "Nombre: password, Tipo: varchar(255), Nulo: NO, Clave: , Predeterminado: None, Extra: \n",
      "Nombre: cambio_password, Tipo: tinyint(4), Nulo: NO, Clave: , Predeterminado: None, Extra: \n",
      "------------------------------------\n",
      "Valores de la tabla profesores\n",
      "('1111111', 'maestro_001', 'appelido_pat001', 'appelido_mat001', 1, '4', 'I', 1, 3, 1, 120, 13, datetime.datetime(1985, 10, 24, 0, 0), datetime.datetime(2010, 10, 24, 0, 0), 2, 8, '$2b$12$rln.OhhvbnJurBGsPQg.OO6/jbDVUbFF/mSG/l6nhlf/.8gul4UKe', 0)\n",
      "('1111112', 'maestro_002', 'appelido_pat002', 'appelido_mat002', 2, '4', 'II', 2, 3, 1, 140, 13, datetime.datetime(1985, 8, 24, 0, 0), datetime.datetime(2010, 10, 24, 0, 0), 2, 8, '$2b$12$rln.OhhvbnJurBGsPQg.OO6/jbDVUbFF/mSG/l6nhlf/.8gul4UKe', 0)\n",
      "('1111113', 'maestro_003', 'appelido_pat003', 'appelido_mat003', 1, '5', 'II', 3, 3, 2, 120, 13, datetime.datetime(1985, 7, 24, 0, 0), datetime.datetime(2010, 10, 24, 0, 0), 2, 8, '$2b$12$rln.OhhvbnJurBGsPQg.OO6/jbDVUbFF/mSG/l6nhlf/.8gul4UKe', 0)\n",
      "('1111114', 'maestro_004', 'appelido_pat004', 'appelido_mat004', 2, '4', 'I', 4, 3, 1, 120, 13, datetime.datetime(1985, 1, 24, 0, 0), datetime.datetime(2010, 10, 24, 0, 0), 2, 8, '$2b$12$rln.OhhvbnJurBGsPQg.OO6/jbDVUbFF/mSG/l6nhlf/.8gul4UKe', 0)\n",
      "('1111115', 'maestro_005', 'appelido_pat005', 'appelido_mat005', 1, '5', 'II', 5, 3, 2, 12, 13, datetime.datetime(1985, 2, 24, 0, 0), datetime.datetime(2010, 10, 24, 0, 0), 2, 8, '$2b$12$rln.OhhvbnJurBGsPQg.OO6/jbDVUbFF/mSG/l6nhlf/.8gul4UKe', 0)\n",
      "('1111116', 'maestro_006', 'appelido_pat006', 'appelido_mat006', 2, '4', 'II', 6, 3, 1, 20, 13, datetime.datetime(1985, 3, 24, 0, 0), datetime.datetime(2010, 10, 24, 0, 0), 2, 8, '$2b$12$rln.OhhvbnJurBGsPQg.OO6/jbDVUbFF/mSG/l6nhlf/.8gul4UKe', 0)\n",
      "('1111117', 'maestro_007', 'appelido_pat007', 'appelido_mat007', 1, '5', 'III', 7, 3, 1, 30, 13, datetime.datetime(1985, 4, 24, 0, 0), datetime.datetime(2010, 10, 24, 0, 0), 2, 8, '$2b$12$rln.OhhvbnJurBGsPQg.OO6/jbDVUbFF/mSG/l6nhlf/.8gul4UKe', 0)\n",
      "('1111118', 'maestro_008', 'appelido_pat008', 'appelido_mat008', 2, '4', 'I', 8, 3, 3, 40, 13, datetime.datetime(1985, 5, 24, 0, 0), datetime.datetime(2010, 10, 24, 0, 0), 2, 8, '$2b$12$rln.OhhvbnJurBGsPQg.OO6/jbDVUbFF/mSG/l6nhlf/.8gul4UKe', 0)\n",
      "('1111119', 'maestro_009', 'appelido_pat009', 'appelido_mat009', 2, '5', 'II', 1, 3, 1, 50, 13, datetime.datetime(1985, 6, 24, 0, 0), datetime.datetime(2010, 10, 24, 0, 0), 2, 8, '$2b$12$rln.OhhvbnJurBGsPQg.OO6/jbDVUbFF/mSG/l6nhlf/.8gul4UKe', 0)\n",
      "('1111120', 'maestro_010', 'appelido_pat010', 'appelido_mat010', 1, '4', 'I', 1, 3, 2, 60, 13, datetime.datetime(1985, 7, 24, 0, 0), datetime.datetime(2010, 10, 24, 0, 0), 2, 8, '$2b$12$rln.OhhvbnJurBGsPQg.OO6/jbDVUbFF/mSG/l6nhlf/.8gul4UKe', 0)\n"
     ]
    }
   ],
   "source": [
    "# Revisamos como esta compuesta la información de la tabla profesores\n",
    "cursor.execute('DESCRIBE profesores;')\n",
    "# Obtener resultados\n",
    "profesores = cursor.fetchall()\n",
    "print(\"------ Atributos de la tabla -------\")\n",
    "for atributo in profesores:\n",
    "    print(f\"Nombre: {atributo[0]}, Tipo: {atributo[1]}, Nulo: {atributo[2]}, Clave: {atributo[3]}, Predeterminado: {atributo[4]}, Extra: {atributo[5]}\")\n",
    "print(\"------------------------------------\")\n",
    "\n",
    "\n",
    "#Imprimimos los valores de la tabla profesores\n",
    "print(\"Valores de la tabla profesores\")\n",
    "cursor.execute('SELECT * FROM profesores;')\n",
    "# Obtener resultados\n",
    "valores_profesores = cursor.fetchall()\n",
    "for fila in valores_profesores:\n",
    "    print(fila)"
   ]
  },
  {
   "cell_type": "markdown",
   "metadata": {},
   "source": [
    "Hasta este momento se cuenta con una plantilla de 10 profesores en la universidad, todos con el estatus activo."
   ]
  },
  {
   "cell_type": "markdown",
   "metadata": {},
   "source": [
    "**Revisamos los atributos e información que componen la tabla respuesta_preguntas**"
   ]
  },
  {
   "cell_type": "code",
   "execution_count": 18,
   "metadata": {},
   "outputs": [
    {
     "name": "stdout",
     "output_type": "stream",
     "text": [
      "------ Atributos de la tabla -------\n",
      "Nombre: id_respuesta, Tipo: tinyint(4), Nulo: NO, Clave: PRI, Predeterminado: None, Extra: \n",
      "Nombre: respuesta, Tipo: varchar(100), Nulo: NO, Clave: , Predeterminado: None, Extra: \n",
      "Nombre: ciclo_escolar, Tipo: tinyint(4), Nulo: NO, Clave: MUL, Predeterminado: None, Extra: \n",
      "------------------------------------\n",
      "Valores de la tabla respuesta_preguntas\n",
      "(1, 'Totalmente de acuerdo', 1)\n",
      "(2, 'De acuerdo', 1)\n",
      "(3, 'En desacuerdo', 1)\n",
      "(4, 'Totalmente en desacuerdo', 1)\n"
     ]
    }
   ],
   "source": [
    "# Revisamos como esta compuesta la información de la tabla respuesta_preguntas\n",
    "cursor.execute('DESCRIBE respuesta_preguntas;')\n",
    "# Obtener resultados\n",
    "respuesta_preguntas = cursor.fetchall()\n",
    "print(\"------ Atributos de la tabla -------\")\n",
    "for atributo in respuesta_preguntas:\n",
    "    print(f\"Nombre: {atributo[0]}, Tipo: {atributo[1]}, Nulo: {atributo[2]}, Clave: {atributo[3]}, Predeterminado: {atributo[4]}, Extra: {atributo[5]}\")\n",
    "print(\"------------------------------------\")\n",
    "\n",
    "\n",
    "#Imprimimos los valores de la tabla respuesta_preguntas\n",
    "print(\"Valores de la tabla respuesta_preguntas\")\n",
    "cursor.execute('SELECT * FROM respuesta_preguntas;')\n",
    "# Obtener resultados\n",
    "valores_respuesta_preguntas = cursor.fetchall()\n",
    "for fila in valores_respuesta_preguntas:\n",
    "    print(fila)"
   ]
  },
  {
   "cell_type": "markdown",
   "metadata": {},
   "source": [
    "Se tienen las siguientes respuestas, relacionadas con las preguntas de la encuesta del ciclo 2024A:\n",
    "\n",
    "* **Totalmente de acuerdo**\n",
    "* **De acuerdo**\n",
    "* **En desacuerdo**\n",
    "* **Totalmente de desacuerdo**\n",
    "\n"
   ]
  },
  {
   "cell_type": "markdown",
   "metadata": {},
   "source": [
    "**Revisamos los atributos e información que componen la tabla resultado_encuesta_historico**"
   ]
  },
  {
   "cell_type": "code",
   "execution_count": 19,
   "metadata": {},
   "outputs": [
    {
     "name": "stdout",
     "output_type": "stream",
     "text": [
      "------ Atributos de la tabla -------\n",
      "Nombre: codigo_profesor, Tipo: varchar(50), Nulo: NO, Clave: MUL, Predeterminado: None, Extra: \n",
      "Nombre: codigo_estudiante, Tipo: varchar(100), Nulo: NO, Clave: MUL, Predeterminado: None, Extra: \n",
      "Nombre: encuesta, Tipo: tinyint(4), Nulo: NO, Clave: MUL, Predeterminado: None, Extra: \n",
      "Nombre: ciclo, Tipo: tinyint(4), Nulo: NO, Clave: MUL, Predeterminado: None, Extra: \n",
      "Nombre: no_pregunta, Tipo: tinyint(4), Nulo: NO, Clave: MUL, Predeterminado: None, Extra: \n",
      "Nombre: nrc, Tipo: varchar(50), Nulo: NO, Clave: MUL, Predeterminado: None, Extra: \n",
      "Nombre: id_respuesta, Tipo: tinyint(4), Nulo: NO, Clave: MUL, Predeterminado: None, Extra: \n",
      "Nombre: puntaje, Tipo: tinyint(4), Nulo: NO, Clave: , Predeterminado: None, Extra: \n",
      "------------------------------------\n",
      "Valores de la tabla resultado_encuesta_historico\n",
      "('1111111', '111111111', 1, 1, 4, 'NRC001', 4, 0)\n",
      "('1111111', '111111111', 1, 1, 5, 'NRC001', 1, 2)\n",
      "('1111111', '111111111', 1, 1, 6, 'NRC001', 2, 1)\n",
      "('1111111', '111111111', 1, 1, 7, 'NRC001', 3, 0)\n",
      "('1111111', '111111111', 1, 1, 8, 'NRC001', 4, 0)\n",
      "('1111111', '111111111', 1, 1, 9, 'NRC001', 1, 2)\n",
      "('1111111', '111111111', 1, 1, 10, 'NRC001', 2, 1)\n",
      "('1111112', '111111111', 1, 1, 1, 'NRC002', 2, 1)\n",
      "('1111112', '111111111', 1, 1, 2, 'NRC002', 2, 1)\n",
      "('1111113', '111111111', 1, 1, 1, 'NRC003', 1, 2)\n",
      "('1111113', '111111111', 1, 1, 2, 'NRC003', 1, 2)\n",
      "('1111113', '111111111', 1, 1, 3, 'NRC003', 1, 2)\n",
      "('1111113', '111111111', 1, 1, 4, 'NRC003', 1, 2)\n",
      "('1111113', '111111111', 1, 1, 5, 'NRC003', 1, 2)\n",
      "('1111114', '111111111', 1, 1, 1, 'NRC004', 3, 0)\n",
      "('1111114', '111111111', 1, 1, 2, 'NRC004', 3, 0)\n",
      "('1111114', '111111111', 1, 1, 3, 'NRC004', 3, 0)\n",
      "('1111114', '111111111', 1, 1, 4, 'NRC004', 3, 0)\n",
      "('1111114', '111111111', 1, 1, 5, 'NRC004', 3, 0)\n",
      "('1111114', '111111111', 1, 1, 6, 'NRC004', 3, 0)\n",
      "('1111114', '111111111', 1, 1, 7, 'NRC004', 3, 0)\n",
      "('1111114', '111111111', 1, 1, 8, 'NRC004', 3, 0)\n",
      "('1111114', '111111111', 1, 1, 9, 'NRC004', 3, 0)\n",
      "('1111114', '111111111', 1, 1, 10, 'NRC004', 3, 0)\n",
      "('1111115', '111111111', 1, 1, 1, 'NRC005', 3, 0)\n",
      "('1111115', '111111111', 1, 1, 3, 'NRC005', 3, 0)\n",
      "('1111115', '111111111', 1, 1, 4, 'NRC005', 3, 0)\n",
      "('1111115', '111111111', 1, 1, 6, 'NRC005', 3, 0)\n",
      "('1111115', '111111111', 1, 1, 7, 'NRC005', 3, 0)\n",
      "('1111115', '111111111', 1, 1, 8, 'NRC005', 3, 0)\n",
      "('1111115', '111111111', 1, 1, 10, 'NRC005', 3, 0)\n",
      "('1111116', '111111111', 1, 1, 1, 'NRC006', 3, 0)\n",
      "('1111116', '111111111', 1, 1, 3, 'NRC006', 3, 0)\n",
      "('1111116', '111111111', 1, 1, 4, 'NRC006', 3, 0)\n",
      "('1111116', '111111111', 1, 1, 6, 'NRC006', 3, 0)\n",
      "('1111116', '111111111', 1, 1, 7, 'NRC006', 3, 0)\n",
      "('1111116', '111111111', 1, 1, 9, 'NRC006', 3, 0)\n",
      "('1111116', '111111111', 1, 1, 10, 'NRC006', 3, 0)\n",
      "('1111117', '111111111', 1, 1, 1, 'NRC007', 3, 0)\n",
      "('1111117', '111111111', 1, 1, 2, 'NRC007', 3, 0)\n",
      "('1111117', '111111111', 1, 1, 4, 'NRC007', 3, 0)\n",
      "('1111117', '111111111', 1, 1, 6, 'NRC007', 3, 0)\n",
      "('1111117', '111111111', 1, 1, 7, 'NRC007', 3, 0)\n",
      "('1111117', '111111111', 1, 1, 9, 'NRC007', 3, 0)\n",
      "('1111117', '111111111', 1, 1, 10, 'NRC007', 3, 0)\n",
      "('1111118', '111111111', 1, 1, 1, 'NRC008', 3, 0)\n",
      "('1111118', '111111111', 1, 1, 2, 'NRC008', 3, 0)\n",
      "('1111119', '111111111', 1, 1, 1, 'NRC009', 3, 0)\n",
      "('1111119', '111111111', 1, 1, 2, 'NRC009', 3, 0)\n",
      "('1111119', '111111111', 1, 1, 3, 'NRC009', 3, 0)\n",
      "('1111119', '111111111', 1, 1, 4, 'NRC009', 3, 0)\n",
      "('1111119', '111111111', 1, 1, 5, 'NRC009', 3, 0)\n",
      "('1111119', '111111111', 1, 1, 6, 'NRC009', 3, 0)\n",
      "('1111111', '111111112', 1, 1, 1, 'NRC001', 1, 2)\n",
      "('1111111', '111111112', 1, 1, 2, 'NRC001', 2, 1)\n",
      "('1111112', '111111112', 1, 1, 2, 'NRC002', 2, 1)\n",
      "('1111112', '111111112', 1, 1, 3, 'NRC002', 2, 1)\n",
      "('1111112', '111111112', 1, 1, 4, 'NRC002', 2, 1)\n",
      "('1111112', '111111112', 1, 1, 5, 'NRC002', 2, 1)\n",
      "('1111112', '111111112', 1, 1, 6, 'NRC002', 2, 1)\n",
      "('1111112', '111111112', 1, 1, 7, 'NRC002', 2, 1)\n",
      "('1111112', '111111112', 1, 1, 8, 'NRC002', 2, 1)\n",
      "('1111112', '111111112', 1, 1, 9, 'NRC002', 2, 1)\n",
      "('1111112', '111111112', 1, 1, 10, 'NRC002', 2, 1)\n",
      "('1111113', '111111112', 1, 1, 1, 'NRC003', 1, 2)\n",
      "('1111113', '111111112', 1, 1, 2, 'NRC003', 1, 2)\n",
      "('1111113', '111111112', 1, 1, 3, 'NRC003', 1, 2)\n",
      "('1111113', '111111112', 1, 1, 4, 'NRC003', 1, 2)\n",
      "('1111113', '111111112', 1, 1, 5, 'NRC003', 1, 2)\n",
      "('1111113', '111111112', 1, 1, 6, 'NRC003', 1, 2)\n",
      "('1111113', '111111112', 1, 1, 7, 'NRC003', 1, 2)\n",
      "('1111113', '111111112', 1, 1, 8, 'NRC003', 1, 2)\n",
      "('1111113', '111111112', 1, 1, 9, 'NRC003', 1, 2)\n",
      "('1111113', '111111112', 1, 1, 10, 'NRC003', 1, 2)\n",
      "('1111114', '111111112', 1, 1, 1, 'NRC004', 3, 0)\n",
      "('1111114', '111111112', 1, 1, 2, 'NRC004', 3, 0)\n",
      "('1111114', '111111112', 1, 1, 3, 'NRC004', 3, 0)\n",
      "('1111114', '111111112', 1, 1, 4, 'NRC004', 3, 0)\n",
      "('1111114', '111111112', 1, 1, 5, 'NRC004', 3, 0)\n",
      "('1111114', '111111112', 1, 1, 6, 'NRC004', 3, 0)\n",
      "('1111114', '111111112', 1, 1, 7, 'NRC004', 3, 0)\n",
      "('1111114', '111111112', 1, 1, 8, 'NRC004', 3, 0)\n",
      "('1111115', '111111112', 1, 1, 4, 'NRC005', 3, 0)\n",
      "('1111115', '111111112', 1, 1, 5, 'NRC005', 3, 0)\n",
      "('1111115', '111111112', 1, 1, 6, 'NRC005', 3, 0)\n",
      "('1111115', '111111112', 1, 1, 7, 'NRC005', 3, 0)\n",
      "('1111115', '111111112', 1, 1, 8, 'NRC005', 3, 0)\n",
      "('1111115', '111111112', 1, 1, 9, 'NRC005', 3, 0)\n",
      "('1111115', '111111112', 1, 1, 10, 'NRC005', 3, 0)\n",
      "('1111116', '111111112', 1, 1, 1, 'NRC006', 3, 0)\n",
      "('1111116', '111111112', 1, 1, 2, 'NRC006', 3, 0)\n",
      "('1111116', '111111112', 1, 1, 3, 'NRC006', 3, 0)\n",
      "('1111116', '111111112', 1, 1, 10, 'NRC006', 3, 0)\n",
      "('1111117', '111111112', 1, 1, 1, 'NRC007', 3, 0)\n",
      "('1111117', '111111112', 1, 1, 2, 'NRC007', 3, 0)\n",
      "('1111117', '111111112', 1, 1, 3, 'NRC007', 3, 0)\n",
      "('1111117', '111111112', 1, 1, 4, 'NRC007', 3, 0)\n",
      "('1111117', '111111112', 1, 1, 5, 'NRC007', 3, 0)\n",
      "('1111117', '111111112', 1, 1, 6, 'NRC007', 3, 0)\n",
      "('1111117', '111111112', 1, 1, 7, 'NRC007', 3, 0)\n",
      "('1111117', '111111112', 1, 1, 8, 'NRC007', 3, 0)\n",
      "('1111117', '111111112', 1, 1, 9, 'NRC007', 3, 0)\n",
      "('1111117', '111111112', 1, 1, 10, 'NRC007', 3, 0)\n",
      "('1111118', '111111112', 1, 1, 1, 'NRC008', 3, 0)\n",
      "('1111118', '111111112', 1, 1, 2, 'NRC008', 3, 0)\n",
      "('1111118', '111111112', 1, 1, 3, 'NRC008', 3, 0)\n",
      "('1111118', '111111112', 1, 1, 7, 'NRC008', 3, 0)\n",
      "('1111118', '111111112', 1, 1, 8, 'NRC008', 3, 0)\n",
      "('1111118', '111111112', 1, 1, 9, 'NRC008', 3, 0)\n",
      "('1111118', '111111112', 1, 1, 10, 'NRC008', 3, 0)\n",
      "('1111119', '111111112', 1, 1, 1, 'NRC009', 3, 0)\n",
      "('1111119', '111111112', 1, 1, 2, 'NRC009', 3, 0)\n",
      "('1111119', '111111112', 1, 1, 7, 'NRC009', 3, 0)\n",
      "('1111119', '111111112', 1, 1, 8, 'NRC009', 3, 0)\n",
      "('1111119', '111111112', 1, 1, 9, 'NRC009', 3, 0)\n",
      "('1111119', '111111112', 1, 1, 10, 'NRC009', 3, 0)\n",
      "('1111111', '111111113', 1, 1, 1, 'NRC001', 1, 2)\n",
      "('1111111', '111111113', 1, 1, 2, 'NRC001', 2, 1)\n",
      "('1111111', '111111113', 1, 1, 3, 'NRC001', 3, 0)\n",
      "('1111111', '111111113', 1, 1, 4, 'NRC001', 4, 0)\n",
      "('1111111', '111111113', 1, 1, 5, 'NRC001', 1, 2)\n",
      "('1111111', '111111113', 1, 1, 6, 'NRC001', 2, 1)\n",
      "('1111111', '111111113', 1, 1, 7, 'NRC001', 3, 0)\n",
      "('1111111', '111111113', 1, 1, 8, 'NRC001', 4, 0)\n",
      "('1111111', '111111113', 1, 1, 9, 'NRC001', 1, 2)\n",
      "('1111111', '111111113', 1, 1, 10, 'NRC001', 2, 1)\n",
      "('1111112', '111111113', 1, 1, 10, 'NRC002', 2, 1)\n",
      "('1111113', '111111113', 1, 1, 1, 'NRC003', 1, 2)\n",
      "('1111113', '111111113', 1, 1, 2, 'NRC003', 1, 2)\n",
      "('1111113', '111111113', 1, 1, 3, 'NRC003', 1, 2)\n",
      "('1111113', '111111113', 1, 1, 4, 'NRC003', 1, 2)\n",
      "('1111113', '111111113', 1, 1, 5, 'NRC003', 1, 2)\n",
      "('1111113', '111111113', 1, 1, 6, 'NRC003', 1, 2)\n",
      "('1111113', '111111113', 1, 1, 7, 'NRC003', 1, 2)\n",
      "('1111113', '111111113', 1, 1, 8, 'NRC003', 1, 2)\n",
      "('1111113', '111111113', 1, 1, 9, 'NRC003', 1, 2)\n",
      "('1111116', '111111113', 1, 1, 1, 'NRC006', 3, 0)\n",
      "('1111116', '111111113', 1, 1, 2, 'NRC006', 3, 0)\n",
      "('1111116', '111111113', 1, 1, 3, 'NRC006', 3, 0)\n",
      "('1111116', '111111113', 1, 1, 4, 'NRC006', 3, 0)\n",
      "('1111116', '111111113', 1, 1, 5, 'NRC006', 3, 0)\n",
      "('1111116', '111111113', 1, 1, 6, 'NRC006', 3, 0)\n",
      "('1111116', '111111113', 1, 1, 7, 'NRC006', 3, 0)\n",
      "('1111116', '111111113', 1, 1, 8, 'NRC006', 3, 0)\n",
      "('1111117', '111111113', 1, 1, 7, 'NRC007', 3, 0)\n",
      "('1111117', '111111113', 1, 1, 8, 'NRC007', 3, 0)\n",
      "('1111117', '111111113', 1, 1, 9, 'NRC007', 3, 0)\n",
      "('1111117', '111111113', 1, 1, 10, 'NRC007', 3, 0)\n",
      "('1111118', '111111113', 1, 1, 1, 'NRC008', 3, 0)\n",
      "('1111118', '111111113', 1, 1, 2, 'NRC008', 3, 0)\n",
      "('1111118', '111111113', 1, 1, 3, 'NRC008', 3, 0)\n",
      "('1111118', '111111113', 1, 1, 4, 'NRC008', 3, 0)\n",
      "('1111118', '111111113', 1, 1, 5, 'NRC008', 3, 0)\n",
      "('1111119', '111111113', 1, 1, 6, 'NRC009', 3, 0)\n",
      "('1111119', '111111113', 1, 1, 7, 'NRC009', 3, 0)\n",
      "('1111119', '111111113', 1, 1, 8, 'NRC009', 3, 0)\n",
      "('1111119', '111111113', 1, 1, 9, 'NRC009', 3, 0)\n",
      "('1111119', '111111113', 1, 1, 10, 'NRC009', 3, 0)\n",
      "('1111111', '111111114', 1, 1, 1, 'NRC001', 1, 2)\n",
      "('1111111', '111111114', 1, 1, 2, 'NRC001', 2, 1)\n",
      "('1111111', '111111114', 1, 1, 3, 'NRC001', 3, 0)\n",
      "('1111111', '111111114', 1, 1, 4, 'NRC001', 4, 0)\n",
      "('1111111', '111111114', 1, 1, 5, 'NRC001', 1, 2)\n",
      "('1111111', '111111114', 1, 1, 6, 'NRC001', 2, 1)\n",
      "('1111111', '111111114', 1, 1, 7, 'NRC001', 3, 0)\n",
      "('1111113', '111111114', 1, 1, 3, 'NRC003', 1, 2)\n",
      "('1111113', '111111114', 1, 1, 4, 'NRC003', 1, 2)\n",
      "('1111113', '111111114', 1, 1, 5, 'NRC003', 1, 2)\n",
      "('1111113', '111111114', 1, 1, 6, 'NRC003', 1, 2)\n",
      "('1111113', '111111114', 1, 1, 7, 'NRC003', 1, 2)\n",
      "('1111113', '111111114', 1, 1, 8, 'NRC003', 1, 2)\n",
      "('1111113', '111111114', 1, 1, 9, 'NRC003', 1, 2)\n",
      "('1111113', '111111114', 1, 1, 10, 'NRC003', 1, 2)\n",
      "('1111114', '111111114', 1, 1, 1, 'NRC004', 3, 0)\n",
      "('1111114', '111111114', 1, 1, 2, 'NRC004', 3, 0)\n",
      "('1111114', '111111114', 1, 1, 3, 'NRC004', 3, 0)\n",
      "('1111114', '111111114', 1, 1, 4, 'NRC004', 3, 0)\n",
      "('1111114', '111111114', 1, 1, 5, 'NRC004', 3, 0)\n",
      "('1111114', '111111114', 1, 1, 6, 'NRC004', 3, 0)\n",
      "('1111114', '111111114', 1, 1, 7, 'NRC004', 3, 0)\n",
      "('1111114', '111111114', 1, 1, 8, 'NRC004', 3, 0)\n",
      "('1111114', '111111114', 1, 1, 9, 'NRC004', 3, 0)\n",
      "('1111114', '111111114', 1, 1, 10, 'NRC004', 3, 0)\n",
      "('1111116', '111111114', 1, 1, 6, 'NRC006', 3, 0)\n",
      "('1111116', '111111114', 1, 1, 7, 'NRC006', 3, 0)\n",
      "('1111116', '111111114', 1, 1, 8, 'NRC006', 3, 0)\n",
      "('1111116', '111111114', 1, 1, 9, 'NRC006', 3, 0)\n",
      "('1111116', '111111114', 1, 1, 10, 'NRC006', 3, 0)\n",
      "('1111117', '111111114', 1, 1, 1, 'NRC007', 3, 0)\n",
      "('1111117', '111111114', 1, 1, 2, 'NRC007', 3, 0)\n",
      "('1111117', '111111114', 1, 1, 3, 'NRC007', 3, 0)\n",
      "('1111117', '111111114', 1, 1, 4, 'NRC007', 3, 0)\n",
      "('1111117', '111111114', 1, 1, 5, 'NRC007', 3, 0)\n",
      "('1111117', '111111114', 1, 1, 6, 'NRC007', 3, 0)\n",
      "('1111117', '111111114', 1, 1, 7, 'NRC007', 3, 0)\n",
      "('1111117', '111111114', 1, 1, 8, 'NRC007', 3, 0)\n",
      "('1111117', '111111114', 1, 1, 9, 'NRC007', 3, 0)\n",
      "('1111119', '111111114', 1, 1, 8, 'NRC009', 3, 0)\n",
      "('1111119', '111111114', 1, 1, 9, 'NRC009', 3, 0)\n",
      "('1111119', '111111114', 1, 1, 10, 'NRC009', 3, 0)\n",
      "('1111111', '111111115', 1, 1, 1, 'NRC001', 1, 2)\n",
      "('1111111', '111111115', 1, 1, 2, 'NRC001', 2, 1)\n",
      "('1111111', '111111115', 1, 1, 3, 'NRC001', 3, 0)\n",
      "('1111111', '111111115', 1, 1, 4, 'NRC001', 4, 0)\n",
      "('1111111', '111111115', 1, 1, 5, 'NRC001', 1, 2)\n",
      "('1111111', '111111115', 1, 1, 6, 'NRC001', 2, 1)\n",
      "('1111111', '111111115', 1, 1, 7, 'NRC001', 3, 0)\n",
      "('1111111', '111111115', 1, 1, 8, 'NRC001', 4, 0)\n",
      "('1111111', '111111115', 1, 1, 9, 'NRC001', 1, 2)\n",
      "('1111111', '111111115', 1, 1, 10, 'NRC001', 2, 1)\n",
      "('1111112', '111111115', 1, 1, 1, 'NRC002', 2, 1)\n",
      "('1111113', '111111115', 1, 1, 7, 'NRC003', 1, 2)\n",
      "('1111113', '111111115', 1, 1, 8, 'NRC003', 1, 2)\n",
      "('1111113', '111111115', 1, 1, 9, 'NRC003', 1, 2)\n",
      "('1111113', '111111115', 1, 1, 10, 'NRC003', 1, 2)\n",
      "('1111114', '111111115', 1, 1, 1, 'NRC004', 3, 0)\n",
      "('1111114', '111111115', 1, 1, 2, 'NRC004', 3, 0)\n",
      "('1111114', '111111115', 1, 1, 3, 'NRC004', 3, 0)\n",
      "('1111114', '111111115', 1, 1, 4, 'NRC004', 3, 0)\n",
      "('1111114', '111111115', 1, 1, 5, 'NRC004', 3, 0)\n",
      "('1111114', '111111115', 1, 1, 6, 'NRC004', 3, 0)\n",
      "('1111115', '111111115', 1, 1, 9, 'NRC005', 3, 0)\n",
      "('1111115', '111111115', 1, 1, 10, 'NRC005', 3, 0)\n",
      "('1111116', '111111115', 1, 1, 1, 'NRC006', 3, 0)\n",
      "('1111116', '111111115', 1, 1, 2, 'NRC006', 3, 0)\n",
      "('1111116', '111111115', 1, 1, 3, 'NRC006', 3, 0)\n",
      "('1111116', '111111115', 1, 1, 4, 'NRC006', 3, 0)\n",
      "('1111116', '111111115', 1, 1, 5, 'NRC006', 3, 0)\n",
      "('1111116', '111111115', 1, 1, 6, 'NRC006', 3, 0)\n",
      "('1111116', '111111115', 1, 1, 7, 'NRC006', 3, 0)\n",
      "('1111116', '111111115', 1, 1, 8, 'NRC006', 3, 0)\n",
      "('1111116', '111111115', 1, 1, 9, 'NRC006', 3, 0)\n",
      "('1111116', '111111115', 1, 1, 10, 'NRC006', 3, 0)\n",
      "('1111117', '111111115', 1, 1, 1, 'NRC007', 3, 0)\n",
      "('1111117', '111111115', 1, 1, 2, 'NRC007', 3, 0)\n",
      "('1111117', '111111115', 1, 1, 3, 'NRC007', 3, 0)\n",
      "('1111117', '111111115', 1, 1, 4, 'NRC007', 3, 0)\n",
      "('1111117', '111111115', 1, 1, 5, 'NRC007', 3, 0)\n",
      "('1111117', '111111115', 1, 1, 6, 'NRC007', 3, 0)\n",
      "('1111118', '111111115', 1, 1, 10, 'NRC008', 3, 0)\n",
      "('1111119', '111111115', 1, 1, 1, 'NRC009', 3, 0)\n",
      "('1111119', '111111115', 1, 1, 2, 'NRC009', 3, 0)\n",
      "('1111119', '111111115', 1, 1, 3, 'NRC009', 3, 0)\n",
      "('1111119', '111111115', 1, 1, 4, 'NRC009', 3, 0)\n",
      "('1111119', '111111115', 1, 1, 5, 'NRC009', 3, 0)\n",
      "('1111119', '111111115', 1, 1, 6, 'NRC009', 3, 0)\n",
      "('1111119', '111111115', 1, 1, 7, 'NRC009', 3, 0)\n",
      "('1111119', '111111115', 1, 1, 8, 'NRC009', 3, 0)\n",
      "('1111119', '111111115', 1, 1, 9, 'NRC009', 3, 0)\n",
      "('1111119', '111111115', 1, 1, 10, 'NRC009', 3, 0)\n",
      "('1111111', '111111116', 1, 1, 1, 'NRC001', 1, 2)\n",
      "('1111111', '111111116', 1, 1, 2, 'NRC001', 2, 1)\n",
      "('1111111', '111111116', 1, 1, 3, 'NRC001', 3, 0)\n",
      "('1111111', '111111116', 1, 1, 4, 'NRC001', 4, 0)\n",
      "('1111111', '111111116', 1, 1, 5, 'NRC001', 1, 2)\n",
      "('1111113', '111111116', 1, 1, 1, 'NRC003', 1, 2)\n",
      "('1111113', '111111116', 1, 1, 2, 'NRC003', 1, 2)\n",
      "('1111113', '111111116', 1, 1, 3, 'NRC003', 1, 2)\n",
      "('1111113', '111111116', 1, 1, 4, 'NRC003', 1, 2)\n",
      "('1111113', '111111116', 1, 1, 5, 'NRC003', 1, 2)\n",
      "('1111113', '111111116', 1, 1, 6, 'NRC003', 1, 2)\n",
      "('1111113', '111111116', 1, 1, 7, 'NRC003', 1, 2)\n",
      "('1111113', '111111116', 1, 1, 8, 'NRC003', 1, 2)\n",
      "('1111113', '111111116', 1, 1, 9, 'NRC003', 1, 2)\n",
      "('1111113', '111111116', 1, 1, 10, 'NRC003', 1, 2)\n",
      "('1111114', '111111116', 1, 1, 1, 'NRC004', 3, 0)\n",
      "('1111114', '111111116', 1, 1, 2, 'NRC004', 3, 0)\n",
      "('1111114', '111111116', 1, 1, 3, 'NRC004', 3, 0)\n",
      "('1111114', '111111116', 1, 1, 4, 'NRC004', 3, 0)\n",
      "('1111115', '111111116', 1, 1, 9, 'NRC005', 3, 0)\n",
      "('1111115', '111111116', 1, 1, 10, 'NRC005', 3, 0)\n",
      "('1111116', '111111116', 1, 1, 1, 'NRC006', 3, 0)\n",
      "('1111116', '111111116', 1, 1, 2, 'NRC006', 3, 0)\n",
      "('1111116', '111111116', 1, 1, 3, 'NRC006', 3, 0)\n",
      "('1111116', '111111116', 1, 1, 4, 'NRC006', 3, 0)\n",
      "('1111116', '111111116', 1, 1, 5, 'NRC006', 3, 0)\n",
      "('1111116', '111111116', 1, 1, 6, 'NRC006', 3, 0)\n",
      "('1111116', '111111116', 1, 1, 7, 'NRC006', 3, 0)\n",
      "('1111116', '111111116', 1, 1, 8, 'NRC006', 3, 0)\n",
      "('1111116', '111111116', 1, 1, 9, 'NRC006', 3, 0)\n",
      "('1111116', '111111116', 1, 1, 10, 'NRC006', 3, 0)\n",
      "('1111117', '111111116', 1, 1, 1, 'NRC007', 3, 0)\n",
      "('1111117', '111111116', 1, 1, 2, 'NRC007', 3, 0)\n",
      "('1111117', '111111116', 1, 1, 3, 'NRC007', 3, 0)\n",
      "('1111118', '111111116', 1, 1, 10, 'NRC008', 3, 0)\n",
      "('1111119', '111111116', 1, 1, 1, 'NRC009', 3, 0)\n",
      "('1111119', '111111116', 1, 1, 2, 'NRC009', 3, 0)\n",
      "('1111119', '111111116', 1, 1, 3, 'NRC009', 3, 0)\n",
      "('1111119', '111111116', 1, 1, 4, 'NRC009', 3, 0)\n",
      "('1111119', '111111116', 1, 1, 5, 'NRC009', 3, 0)\n",
      "('1111119', '111111116', 1, 1, 6, 'NRC009', 3, 0)\n",
      "('1111119', '111111116', 1, 1, 7, 'NRC009', 3, 0)\n",
      "('1111119', '111111116', 1, 1, 8, 'NRC009', 3, 0)\n",
      "('1111119', '111111116', 1, 1, 9, 'NRC009', 3, 0)\n",
      "('1111119', '111111116', 1, 1, 10, 'NRC009', 3, 0)\n"
     ]
    }
   ],
   "source": [
    "# Revisamos como esta compuesta la información de la tabla resultado_encuesta_historico\n",
    "cursor.execute('DESCRIBE resultado_encuesta_historico;')\n",
    "# Obtener resultados\n",
    "resultado_encuesta_historico = cursor.fetchall()\n",
    "print(\"------ Atributos de la tabla -------\")\n",
    "for atributo in resultado_encuesta_historico:\n",
    "    print(f\"Nombre: {atributo[0]}, Tipo: {atributo[1]}, Nulo: {atributo[2]}, Clave: {atributo[3]}, Predeterminado: {atributo[4]}, Extra: {atributo[5]}\")\n",
    "print(\"------------------------------------\")\n",
    "\n",
    "\n",
    "#Imprimimos los valores de la tabla resultado_encuesta_historico\n",
    "print(\"Valores de la tabla resultado_encuesta_historico\")\n",
    "cursor.execute('SELECT * FROM resultado_encuesta_historico;')\n",
    "# Obtener resultados\n",
    "valores_resultado_encuesta_historico = cursor.fetchall()\n",
    "for fila in valores_resultado_encuesta_historico:\n",
    "    print(fila)"
   ]
  },
  {
   "cell_type": "markdown",
   "metadata": {},
   "source": [
    "En esta tabla se almacena el historial de respuestas emitidas por los estudiantes conforme a las encuestas."
   ]
  },
  {
   "cell_type": "markdown",
   "metadata": {},
   "source": [
    "**Revisamos los atributos e información que componen la tabla resultado_encuesta_ultimo_ciclo**"
   ]
  },
  {
   "cell_type": "code",
   "execution_count": 20,
   "metadata": {},
   "outputs": [
    {
     "name": "stdout",
     "output_type": "stream",
     "text": [
      "------ Atributos de la tabla -------\n",
      "Nombre: codigo_profesor, Tipo: varchar(50), Nulo: NO, Clave: MUL, Predeterminado: None, Extra: \n",
      "Nombre: codigo_estudiante, Tipo: varchar(100), Nulo: NO, Clave: MUL, Predeterminado: None, Extra: \n",
      "Nombre: encuesta, Tipo: tinyint(4), Nulo: NO, Clave: MUL, Predeterminado: None, Extra: \n",
      "Nombre: ciclo, Tipo: tinyint(4), Nulo: NO, Clave: MUL, Predeterminado: None, Extra: \n",
      "Nombre: no_pregunta, Tipo: tinyint(4), Nulo: NO, Clave: MUL, Predeterminado: None, Extra: \n",
      "Nombre: nrc, Tipo: varchar(50), Nulo: NO, Clave: MUL, Predeterminado: None, Extra: \n",
      "Nombre: id_respuesta, Tipo: tinyint(4), Nulo: NO, Clave: MUL, Predeterminado: None, Extra: \n",
      "Nombre: puntaje, Tipo: tinyint(4), Nulo: YES, Clave: , Predeterminado: None, Extra: \n",
      "------------------------------------\n",
      "Valores de la tabla resultado_encuesta_ultimo_ciclo\n",
      "('1111111', '111111111', 1, 1, 4, 'NRC001', 4, 0)\n",
      "('1111111', '111111111', 1, 1, 5, 'NRC001', 1, 2)\n",
      "('1111111', '111111111', 1, 1, 6, 'NRC001', 2, 1)\n",
      "('1111111', '111111111', 1, 1, 7, 'NRC001', 3, 0)\n",
      "('1111111', '111111111', 1, 1, 8, 'NRC001', 4, 0)\n",
      "('1111111', '111111111', 1, 1, 9, 'NRC001', 1, 2)\n",
      "('1111111', '111111111', 1, 1, 10, 'NRC001', 2, 1)\n",
      "('1111112', '111111111', 1, 1, 1, 'NRC002', 2, 1)\n",
      "('1111112', '111111111', 1, 1, 2, 'NRC002', 2, 1)\n",
      "('1111113', '111111111', 1, 1, 1, 'NRC003', 1, 2)\n",
      "('1111113', '111111111', 1, 1, 2, 'NRC003', 1, 2)\n",
      "('1111113', '111111111', 1, 1, 3, 'NRC003', 1, 2)\n",
      "('1111113', '111111111', 1, 1, 4, 'NRC003', 1, 2)\n",
      "('1111113', '111111111', 1, 1, 5, 'NRC003', 1, 2)\n",
      "('1111114', '111111111', 1, 1, 1, 'NRC004', 3, 0)\n",
      "('1111114', '111111111', 1, 1, 2, 'NRC004', 3, 0)\n",
      "('1111114', '111111111', 1, 1, 3, 'NRC004', 3, 0)\n",
      "('1111114', '111111111', 1, 1, 4, 'NRC004', 3, 0)\n",
      "('1111114', '111111111', 1, 1, 5, 'NRC004', 3, 0)\n",
      "('1111114', '111111111', 1, 1, 6, 'NRC004', 3, 0)\n",
      "('1111114', '111111111', 1, 1, 7, 'NRC004', 3, 0)\n",
      "('1111114', '111111111', 1, 1, 8, 'NRC004', 3, 0)\n",
      "('1111114', '111111111', 1, 1, 9, 'NRC004', 3, 0)\n",
      "('1111114', '111111111', 1, 1, 10, 'NRC004', 3, 0)\n",
      "('1111115', '111111111', 1, 1, 1, 'NRC005', 3, 0)\n",
      "('1111115', '111111111', 1, 1, 3, 'NRC005', 3, 0)\n",
      "('1111115', '111111111', 1, 1, 4, 'NRC005', 3, 0)\n",
      "('1111115', '111111111', 1, 1, 6, 'NRC005', 3, 0)\n",
      "('1111115', '111111111', 1, 1, 7, 'NRC005', 3, 0)\n",
      "('1111115', '111111111', 1, 1, 8, 'NRC005', 3, 0)\n",
      "('1111115', '111111111', 1, 1, 10, 'NRC005', 3, 0)\n",
      "('1111116', '111111111', 1, 1, 1, 'NRC006', 3, 0)\n",
      "('1111116', '111111111', 1, 1, 3, 'NRC006', 3, 0)\n",
      "('1111116', '111111111', 1, 1, 4, 'NRC006', 3, 0)\n",
      "('1111116', '111111111', 1, 1, 6, 'NRC006', 3, 0)\n",
      "('1111116', '111111111', 1, 1, 7, 'NRC006', 3, 0)\n",
      "('1111116', '111111111', 1, 1, 9, 'NRC006', 3, 0)\n",
      "('1111116', '111111111', 1, 1, 10, 'NRC006', 3, 0)\n",
      "('1111117', '111111111', 1, 1, 1, 'NRC007', 3, 0)\n",
      "('1111117', '111111111', 1, 1, 2, 'NRC007', 3, 0)\n",
      "('1111117', '111111111', 1, 1, 4, 'NRC007', 3, 0)\n",
      "('1111117', '111111111', 1, 1, 6, 'NRC007', 3, 0)\n",
      "('1111117', '111111111', 1, 1, 7, 'NRC007', 3, 0)\n",
      "('1111117', '111111111', 1, 1, 9, 'NRC007', 3, 0)\n",
      "('1111117', '111111111', 1, 1, 10, 'NRC007', 3, 0)\n",
      "('1111118', '111111111', 1, 1, 1, 'NRC008', 3, 0)\n",
      "('1111118', '111111111', 1, 1, 2, 'NRC008', 3, 0)\n",
      "('1111119', '111111111', 1, 1, 1, 'NRC009', 3, 0)\n",
      "('1111119', '111111111', 1, 1, 2, 'NRC009', 3, 0)\n",
      "('1111119', '111111111', 1, 1, 3, 'NRC009', 3, 0)\n",
      "('1111119', '111111111', 1, 1, 4, 'NRC009', 3, 0)\n",
      "('1111119', '111111111', 1, 1, 5, 'NRC009', 3, 0)\n",
      "('1111119', '111111111', 1, 1, 6, 'NRC009', 3, 0)\n",
      "('1111111', '111111112', 1, 1, 1, 'NRC001', 1, 2)\n",
      "('1111111', '111111112', 1, 1, 2, 'NRC001', 2, 1)\n",
      "('1111112', '111111112', 1, 1, 2, 'NRC002', 2, 1)\n",
      "('1111112', '111111112', 1, 1, 3, 'NRC002', 2, 1)\n",
      "('1111112', '111111112', 1, 1, 4, 'NRC002', 2, 1)\n",
      "('1111112', '111111112', 1, 1, 5, 'NRC002', 2, 1)\n",
      "('1111112', '111111112', 1, 1, 6, 'NRC002', 2, 1)\n",
      "('1111112', '111111112', 1, 1, 7, 'NRC002', 2, 1)\n",
      "('1111112', '111111112', 1, 1, 8, 'NRC002', 2, 1)\n",
      "('1111112', '111111112', 1, 1, 9, 'NRC002', 2, 1)\n",
      "('1111112', '111111112', 1, 1, 10, 'NRC002', 2, 1)\n",
      "('1111113', '111111112', 1, 1, 1, 'NRC003', 1, 2)\n",
      "('1111113', '111111112', 1, 1, 2, 'NRC003', 1, 2)\n",
      "('1111113', '111111112', 1, 1, 3, 'NRC003', 1, 2)\n",
      "('1111113', '111111112', 1, 1, 4, 'NRC003', 1, 2)\n",
      "('1111113', '111111112', 1, 1, 5, 'NRC003', 1, 2)\n",
      "('1111113', '111111112', 1, 1, 6, 'NRC003', 1, 2)\n",
      "('1111113', '111111112', 1, 1, 7, 'NRC003', 1, 2)\n",
      "('1111113', '111111112', 1, 1, 8, 'NRC003', 1, 2)\n",
      "('1111113', '111111112', 1, 1, 9, 'NRC003', 1, 2)\n",
      "('1111113', '111111112', 1, 1, 10, 'NRC003', 1, 2)\n",
      "('1111114', '111111112', 1, 1, 1, 'NRC004', 3, 0)\n",
      "('1111114', '111111112', 1, 1, 2, 'NRC004', 3, 0)\n",
      "('1111114', '111111112', 1, 1, 3, 'NRC004', 3, 0)\n",
      "('1111114', '111111112', 1, 1, 4, 'NRC004', 3, 0)\n",
      "('1111114', '111111112', 1, 1, 5, 'NRC004', 3, 0)\n",
      "('1111114', '111111112', 1, 1, 6, 'NRC004', 3, 0)\n",
      "('1111114', '111111112', 1, 1, 7, 'NRC004', 3, 0)\n",
      "('1111114', '111111112', 1, 1, 8, 'NRC004', 3, 0)\n",
      "('1111115', '111111112', 1, 1, 4, 'NRC005', 3, 0)\n",
      "('1111115', '111111112', 1, 1, 5, 'NRC005', 3, 0)\n",
      "('1111115', '111111112', 1, 1, 6, 'NRC005', 3, 0)\n",
      "('1111115', '111111112', 1, 1, 7, 'NRC005', 3, 0)\n",
      "('1111115', '111111112', 1, 1, 8, 'NRC005', 3, 0)\n",
      "('1111115', '111111112', 1, 1, 9, 'NRC005', 3, 0)\n",
      "('1111115', '111111112', 1, 1, 10, 'NRC005', 3, 0)\n",
      "('1111116', '111111112', 1, 1, 1, 'NRC006', 3, 0)\n",
      "('1111116', '111111112', 1, 1, 2, 'NRC006', 3, 0)\n",
      "('1111116', '111111112', 1, 1, 3, 'NRC006', 3, 0)\n",
      "('1111116', '111111112', 1, 1, 10, 'NRC006', 3, 0)\n",
      "('1111117', '111111112', 1, 1, 1, 'NRC007', 3, 0)\n",
      "('1111117', '111111112', 1, 1, 2, 'NRC007', 3, 0)\n",
      "('1111117', '111111112', 1, 1, 3, 'NRC007', 3, 0)\n",
      "('1111117', '111111112', 1, 1, 4, 'NRC007', 3, 0)\n",
      "('1111117', '111111112', 1, 1, 5, 'NRC007', 3, 0)\n",
      "('1111117', '111111112', 1, 1, 6, 'NRC007', 3, 0)\n",
      "('1111117', '111111112', 1, 1, 7, 'NRC007', 3, 0)\n",
      "('1111117', '111111112', 1, 1, 8, 'NRC007', 3, 0)\n",
      "('1111117', '111111112', 1, 1, 9, 'NRC007', 3, 0)\n",
      "('1111117', '111111112', 1, 1, 10, 'NRC007', 3, 0)\n",
      "('1111118', '111111112', 1, 1, 1, 'NRC008', 3, 0)\n",
      "('1111118', '111111112', 1, 1, 2, 'NRC008', 3, 0)\n",
      "('1111118', '111111112', 1, 1, 3, 'NRC008', 3, 0)\n",
      "('1111118', '111111112', 1, 1, 7, 'NRC008', 3, 0)\n",
      "('1111118', '111111112', 1, 1, 8, 'NRC008', 3, 0)\n",
      "('1111118', '111111112', 1, 1, 9, 'NRC008', 3, 0)\n",
      "('1111118', '111111112', 1, 1, 10, 'NRC008', 3, 0)\n",
      "('1111119', '111111112', 1, 1, 1, 'NRC009', 3, 0)\n",
      "('1111119', '111111112', 1, 1, 2, 'NRC009', 3, 0)\n",
      "('1111119', '111111112', 1, 1, 7, 'NRC009', 3, 0)\n",
      "('1111119', '111111112', 1, 1, 8, 'NRC009', 3, 0)\n",
      "('1111119', '111111112', 1, 1, 9, 'NRC009', 3, 0)\n",
      "('1111119', '111111112', 1, 1, 10, 'NRC009', 3, 0)\n",
      "('1111111', '111111113', 1, 1, 1, 'NRC001', 1, 2)\n",
      "('1111111', '111111113', 1, 1, 2, 'NRC001', 2, 1)\n",
      "('1111111', '111111113', 1, 1, 3, 'NRC001', 3, 0)\n",
      "('1111111', '111111113', 1, 1, 4, 'NRC001', 4, 0)\n",
      "('1111111', '111111113', 1, 1, 5, 'NRC001', 1, 2)\n",
      "('1111111', '111111113', 1, 1, 6, 'NRC001', 2, 1)\n",
      "('1111111', '111111113', 1, 1, 7, 'NRC001', 3, 0)\n",
      "('1111111', '111111113', 1, 1, 8, 'NRC001', 4, 0)\n",
      "('1111111', '111111113', 1, 1, 9, 'NRC001', 1, 2)\n",
      "('1111111', '111111113', 1, 1, 10, 'NRC001', 2, 1)\n",
      "('1111112', '111111113', 1, 1, 10, 'NRC002', 2, 1)\n",
      "('1111113', '111111113', 1, 1, 1, 'NRC003', 1, 2)\n",
      "('1111113', '111111113', 1, 1, 2, 'NRC003', 1, 2)\n",
      "('1111113', '111111113', 1, 1, 3, 'NRC003', 1, 2)\n",
      "('1111113', '111111113', 1, 1, 4, 'NRC003', 1, 2)\n",
      "('1111113', '111111113', 1, 1, 5, 'NRC003', 1, 2)\n",
      "('1111113', '111111113', 1, 1, 6, 'NRC003', 1, 2)\n",
      "('1111113', '111111113', 1, 1, 7, 'NRC003', 1, 2)\n",
      "('1111113', '111111113', 1, 1, 8, 'NRC003', 1, 2)\n",
      "('1111113', '111111113', 1, 1, 9, 'NRC003', 1, 2)\n",
      "('1111116', '111111113', 1, 1, 1, 'NRC006', 3, 0)\n",
      "('1111116', '111111113', 1, 1, 2, 'NRC006', 3, 0)\n",
      "('1111116', '111111113', 1, 1, 3, 'NRC006', 3, 0)\n",
      "('1111116', '111111113', 1, 1, 4, 'NRC006', 3, 0)\n",
      "('1111116', '111111113', 1, 1, 5, 'NRC006', 3, 0)\n",
      "('1111116', '111111113', 1, 1, 6, 'NRC006', 3, 0)\n",
      "('1111116', '111111113', 1, 1, 7, 'NRC006', 3, 0)\n",
      "('1111116', '111111113', 1, 1, 8, 'NRC006', 3, 0)\n",
      "('1111117', '111111113', 1, 1, 7, 'NRC007', 3, 0)\n",
      "('1111117', '111111113', 1, 1, 8, 'NRC007', 3, 0)\n",
      "('1111117', '111111113', 1, 1, 9, 'NRC007', 3, 0)\n",
      "('1111117', '111111113', 1, 1, 10, 'NRC007', 3, 0)\n",
      "('1111118', '111111113', 1, 1, 1, 'NRC008', 3, 0)\n",
      "('1111118', '111111113', 1, 1, 2, 'NRC008', 3, 0)\n",
      "('1111118', '111111113', 1, 1, 3, 'NRC008', 3, 0)\n",
      "('1111118', '111111113', 1, 1, 4, 'NRC008', 3, 0)\n",
      "('1111118', '111111113', 1, 1, 5, 'NRC008', 3, 0)\n",
      "('1111119', '111111113', 1, 1, 6, 'NRC009', 3, 0)\n",
      "('1111119', '111111113', 1, 1, 7, 'NRC009', 3, 0)\n",
      "('1111119', '111111113', 1, 1, 8, 'NRC009', 3, 0)\n",
      "('1111119', '111111113', 1, 1, 9, 'NRC009', 3, 0)\n",
      "('1111119', '111111113', 1, 1, 10, 'NRC009', 3, 0)\n",
      "('1111111', '111111114', 1, 1, 1, 'NRC001', 1, 2)\n",
      "('1111111', '111111114', 1, 1, 2, 'NRC001', 2, 1)\n",
      "('1111111', '111111114', 1, 1, 3, 'NRC001', 3, 0)\n",
      "('1111111', '111111114', 1, 1, 4, 'NRC001', 4, 0)\n",
      "('1111111', '111111114', 1, 1, 5, 'NRC001', 1, 2)\n",
      "('1111111', '111111114', 1, 1, 6, 'NRC001', 2, 1)\n",
      "('1111111', '111111114', 1, 1, 7, 'NRC001', 3, 0)\n",
      "('1111113', '111111114', 1, 1, 3, 'NRC003', 1, 2)\n",
      "('1111113', '111111114', 1, 1, 4, 'NRC003', 1, 2)\n",
      "('1111113', '111111114', 1, 1, 5, 'NRC003', 1, 2)\n",
      "('1111113', '111111114', 1, 1, 6, 'NRC003', 1, 2)\n",
      "('1111113', '111111114', 1, 1, 7, 'NRC003', 1, 2)\n",
      "('1111113', '111111114', 1, 1, 8, 'NRC003', 1, 2)\n",
      "('1111113', '111111114', 1, 1, 9, 'NRC003', 1, 2)\n",
      "('1111113', '111111114', 1, 1, 10, 'NRC003', 1, 2)\n",
      "('1111114', '111111114', 1, 1, 1, 'NRC004', 3, 0)\n",
      "('1111114', '111111114', 1, 1, 2, 'NRC004', 3, 0)\n",
      "('1111114', '111111114', 1, 1, 3, 'NRC004', 3, 0)\n",
      "('1111114', '111111114', 1, 1, 4, 'NRC004', 3, 0)\n",
      "('1111114', '111111114', 1, 1, 5, 'NRC004', 3, 0)\n",
      "('1111114', '111111114', 1, 1, 6, 'NRC004', 3, 0)\n",
      "('1111114', '111111114', 1, 1, 7, 'NRC004', 3, 0)\n",
      "('1111114', '111111114', 1, 1, 8, 'NRC004', 3, 0)\n",
      "('1111114', '111111114', 1, 1, 9, 'NRC004', 3, 0)\n",
      "('1111114', '111111114', 1, 1, 10, 'NRC004', 3, 0)\n",
      "('1111116', '111111114', 1, 1, 6, 'NRC006', 3, 0)\n",
      "('1111116', '111111114', 1, 1, 7, 'NRC006', 3, 0)\n",
      "('1111116', '111111114', 1, 1, 8, 'NRC006', 3, 0)\n",
      "('1111116', '111111114', 1, 1, 9, 'NRC006', 3, 0)\n",
      "('1111116', '111111114', 1, 1, 10, 'NRC006', 3, 0)\n",
      "('1111117', '111111114', 1, 1, 1, 'NRC007', 3, 0)\n",
      "('1111117', '111111114', 1, 1, 2, 'NRC007', 3, 0)\n",
      "('1111117', '111111114', 1, 1, 3, 'NRC007', 3, 0)\n",
      "('1111117', '111111114', 1, 1, 4, 'NRC007', 3, 0)\n",
      "('1111117', '111111114', 1, 1, 5, 'NRC007', 3, 0)\n",
      "('1111117', '111111114', 1, 1, 6, 'NRC007', 3, 0)\n",
      "('1111117', '111111114', 1, 1, 7, 'NRC007', 3, 0)\n",
      "('1111117', '111111114', 1, 1, 8, 'NRC007', 3, 0)\n",
      "('1111117', '111111114', 1, 1, 9, 'NRC007', 3, 0)\n",
      "('1111119', '111111114', 1, 1, 8, 'NRC009', 3, 0)\n",
      "('1111119', '111111114', 1, 1, 9, 'NRC009', 3, 0)\n",
      "('1111119', '111111114', 1, 1, 10, 'NRC009', 3, 0)\n",
      "('1111111', '111111115', 1, 1, 1, 'NRC001', 1, 2)\n",
      "('1111111', '111111115', 1, 1, 2, 'NRC001', 2, 1)\n",
      "('1111111', '111111115', 1, 1, 3, 'NRC001', 3, 0)\n",
      "('1111111', '111111115', 1, 1, 4, 'NRC001', 4, 0)\n",
      "('1111111', '111111115', 1, 1, 5, 'NRC001', 1, 2)\n",
      "('1111111', '111111115', 1, 1, 6, 'NRC001', 2, 1)\n",
      "('1111111', '111111115', 1, 1, 7, 'NRC001', 3, 0)\n",
      "('1111111', '111111115', 1, 1, 8, 'NRC001', 4, 0)\n",
      "('1111111', '111111115', 1, 1, 9, 'NRC001', 1, 2)\n",
      "('1111111', '111111115', 1, 1, 10, 'NRC001', 2, 1)\n",
      "('1111112', '111111115', 1, 1, 1, 'NRC002', 2, 1)\n",
      "('1111113', '111111115', 1, 1, 7, 'NRC003', 1, 2)\n",
      "('1111113', '111111115', 1, 1, 8, 'NRC003', 1, 2)\n",
      "('1111113', '111111115', 1, 1, 9, 'NRC003', 1, 2)\n",
      "('1111113', '111111115', 1, 1, 10, 'NRC003', 1, 2)\n",
      "('1111114', '111111115', 1, 1, 1, 'NRC004', 3, 0)\n",
      "('1111114', '111111115', 1, 1, 2, 'NRC004', 3, 0)\n",
      "('1111114', '111111115', 1, 1, 3, 'NRC004', 3, 0)\n",
      "('1111114', '111111115', 1, 1, 4, 'NRC004', 3, 0)\n",
      "('1111114', '111111115', 1, 1, 5, 'NRC004', 3, 0)\n",
      "('1111114', '111111115', 1, 1, 6, 'NRC004', 3, 0)\n",
      "('1111115', '111111115', 1, 1, 9, 'NRC005', 3, 0)\n",
      "('1111115', '111111115', 1, 1, 10, 'NRC005', 3, 0)\n",
      "('1111116', '111111115', 1, 1, 1, 'NRC006', 3, 0)\n",
      "('1111116', '111111115', 1, 1, 2, 'NRC006', 3, 0)\n",
      "('1111116', '111111115', 1, 1, 3, 'NRC006', 3, 0)\n",
      "('1111116', '111111115', 1, 1, 4, 'NRC006', 3, 0)\n",
      "('1111116', '111111115', 1, 1, 5, 'NRC006', 3, 0)\n",
      "('1111116', '111111115', 1, 1, 6, 'NRC006', 3, 0)\n",
      "('1111116', '111111115', 1, 1, 7, 'NRC006', 3, 0)\n",
      "('1111116', '111111115', 1, 1, 8, 'NRC006', 3, 0)\n",
      "('1111116', '111111115', 1, 1, 9, 'NRC006', 3, 0)\n",
      "('1111116', '111111115', 1, 1, 10, 'NRC006', 3, 0)\n",
      "('1111117', '111111115', 1, 1, 1, 'NRC007', 3, 0)\n",
      "('1111117', '111111115', 1, 1, 2, 'NRC007', 3, 0)\n",
      "('1111117', '111111115', 1, 1, 3, 'NRC007', 3, 0)\n",
      "('1111117', '111111115', 1, 1, 4, 'NRC007', 3, 0)\n",
      "('1111117', '111111115', 1, 1, 5, 'NRC007', 3, 0)\n",
      "('1111117', '111111115', 1, 1, 6, 'NRC007', 3, 0)\n",
      "('1111118', '111111115', 1, 1, 10, 'NRC008', 3, 0)\n",
      "('1111119', '111111115', 1, 1, 1, 'NRC009', 3, 0)\n",
      "('1111119', '111111115', 1, 1, 2, 'NRC009', 3, 0)\n",
      "('1111119', '111111115', 1, 1, 3, 'NRC009', 3, 0)\n",
      "('1111119', '111111115', 1, 1, 4, 'NRC009', 3, 0)\n",
      "('1111119', '111111115', 1, 1, 5, 'NRC009', 3, 0)\n",
      "('1111119', '111111115', 1, 1, 6, 'NRC009', 3, 0)\n",
      "('1111119', '111111115', 1, 1, 7, 'NRC009', 3, 0)\n",
      "('1111119', '111111115', 1, 1, 8, 'NRC009', 3, 0)\n",
      "('1111119', '111111115', 1, 1, 9, 'NRC009', 3, 0)\n",
      "('1111119', '111111115', 1, 1, 10, 'NRC009', 3, 0)\n",
      "('1111111', '111111116', 1, 1, 1, 'NRC001', 1, 2)\n",
      "('1111111', '111111116', 1, 1, 2, 'NRC001', 2, 1)\n",
      "('1111111', '111111116', 1, 1, 3, 'NRC001', 3, 0)\n",
      "('1111111', '111111116', 1, 1, 4, 'NRC001', 4, 0)\n",
      "('1111111', '111111116', 1, 1, 5, 'NRC001', 1, 2)\n",
      "('1111113', '111111116', 1, 1, 1, 'NRC003', 1, 2)\n",
      "('1111113', '111111116', 1, 1, 2, 'NRC003', 1, 2)\n",
      "('1111113', '111111116', 1, 1, 3, 'NRC003', 1, 2)\n",
      "('1111113', '111111116', 1, 1, 4, 'NRC003', 1, 2)\n",
      "('1111113', '111111116', 1, 1, 5, 'NRC003', 1, 2)\n",
      "('1111113', '111111116', 1, 1, 6, 'NRC003', 1, 2)\n",
      "('1111113', '111111116', 1, 1, 7, 'NRC003', 1, 2)\n",
      "('1111113', '111111116', 1, 1, 8, 'NRC003', 1, 2)\n",
      "('1111113', '111111116', 1, 1, 9, 'NRC003', 1, 2)\n",
      "('1111113', '111111116', 1, 1, 10, 'NRC003', 1, 2)\n",
      "('1111114', '111111116', 1, 1, 1, 'NRC004', 3, 0)\n",
      "('1111114', '111111116', 1, 1, 2, 'NRC004', 3, 0)\n",
      "('1111114', '111111116', 1, 1, 3, 'NRC004', 3, 0)\n",
      "('1111114', '111111116', 1, 1, 4, 'NRC004', 3, 0)\n",
      "('1111115', '111111116', 1, 1, 9, 'NRC005', 3, 0)\n",
      "('1111115', '111111116', 1, 1, 10, 'NRC005', 3, 0)\n",
      "('1111116', '111111116', 1, 1, 1, 'NRC006', 3, 0)\n",
      "('1111116', '111111116', 1, 1, 2, 'NRC006', 3, 0)\n",
      "('1111116', '111111116', 1, 1, 3, 'NRC006', 3, 0)\n",
      "('1111116', '111111116', 1, 1, 4, 'NRC006', 3, 0)\n",
      "('1111116', '111111116', 1, 1, 5, 'NRC006', 3, 0)\n",
      "('1111116', '111111116', 1, 1, 6, 'NRC006', 3, 0)\n",
      "('1111116', '111111116', 1, 1, 7, 'NRC006', 3, 0)\n",
      "('1111116', '111111116', 1, 1, 8, 'NRC006', 3, 0)\n",
      "('1111116', '111111116', 1, 1, 9, 'NRC006', 3, 0)\n",
      "('1111116', '111111116', 1, 1, 10, 'NRC006', 3, 0)\n",
      "('1111117', '111111116', 1, 1, 1, 'NRC007', 3, 0)\n",
      "('1111117', '111111116', 1, 1, 2, 'NRC007', 3, 0)\n",
      "('1111117', '111111116', 1, 1, 3, 'NRC007', 3, 0)\n",
      "('1111118', '111111116', 1, 1, 10, 'NRC008', 3, 0)\n",
      "('1111119', '111111116', 1, 1, 1, 'NRC009', 3, 0)\n",
      "('1111119', '111111116', 1, 1, 2, 'NRC009', 3, 0)\n",
      "('1111119', '111111116', 1, 1, 3, 'NRC009', 3, 0)\n",
      "('1111119', '111111116', 1, 1, 4, 'NRC009', 3, 0)\n",
      "('1111119', '111111116', 1, 1, 5, 'NRC009', 3, 0)\n",
      "('1111119', '111111116', 1, 1, 6, 'NRC009', 3, 0)\n",
      "('1111119', '111111116', 1, 1, 7, 'NRC009', 3, 0)\n",
      "('1111119', '111111116', 1, 1, 8, 'NRC009', 3, 0)\n",
      "('1111119', '111111116', 1, 1, 9, 'NRC009', 3, 0)\n",
      "('1111119', '111111116', 1, 1, 10, 'NRC009', 3, 0)\n"
     ]
    }
   ],
   "source": [
    "# Revisamos como esta compuesta la información de la tabla resultado_encuesta_ultimo_ciclo\n",
    "cursor.execute('DESCRIBE resultado_encuesta_ultimo_ciclo;')\n",
    "# Obtener resultados\n",
    "resultado_encuesta_ultimo_ciclo = cursor.fetchall()\n",
    "print(\"------ Atributos de la tabla -------\")\n",
    "for atributo in resultado_encuesta_ultimo_ciclo:\n",
    "    print(f\"Nombre: {atributo[0]}, Tipo: {atributo[1]}, Nulo: {atributo[2]}, Clave: {atributo[3]}, Predeterminado: {atributo[4]}, Extra: {atributo[5]}\")\n",
    "print(\"------------------------------------\")\n",
    "\n",
    "\n",
    "#Imprimimos los valores de la tabla resultado_encuesta_ultimo_ciclo\n",
    "print(\"Valores de la tabla resultado_encuesta_ultimo_ciclo\")\n",
    "cursor.execute('SELECT * FROM resultado_encuesta_ultimo_ciclo;')\n",
    "# Obtener resultados\n",
    "valores_resultado_encuesta_ultimo_ciclo = cursor.fetchall()\n",
    "for fila in valores_resultado_encuesta_ultimo_ciclo:\n",
    "    print(fila)"
   ]
  },
  {
   "cell_type": "markdown",
   "metadata": {},
   "source": [
    "En esta tabla se almacenan las respuestas de los estudiantes del ciclo actual, teniendo hasta este momento 295 respuestas emitidas por los estudiantes."
   ]
  },
  {
   "cell_type": "markdown",
   "metadata": {},
   "source": [
    "**Revisamos los atributos e información que componen la tabla roles**"
   ]
  },
  {
   "cell_type": "code",
   "execution_count": 21,
   "metadata": {},
   "outputs": [
    {
     "name": "stdout",
     "output_type": "stream",
     "text": [
      "------ Atributos de la tabla -------\n",
      "Nombre: id_rol, Tipo: tinyint(4), Nulo: NO, Clave: PRI, Predeterminado: None, Extra: \n",
      "Nombre: rol, Tipo: varchar(100), Nulo: NO, Clave: , Predeterminado: None, Extra: \n",
      "------------------------------------\n",
      "Valores de la tabla roles\n",
      "(1, 'Administración y mantenimiento del sistema')\n",
      "(2, 'Gestión de la información')\n",
      "(3, 'Rectoria')\n",
      "(4, 'Secretario Académico')\n",
      "(5, 'Directores de División')\n",
      "(6, 'Jefes de departamento')\n",
      "(7, 'Coordinadores de Carrera')\n",
      "(8, 'Profesores')\n",
      "(9, 'Estudiantes')\n"
     ]
    }
   ],
   "source": [
    "# Revisamos como esta compuesta la información de la tabla preguntas\n",
    "cursor.execute('DESCRIBE roles;')\n",
    "# Obtener resultados\n",
    "roles = cursor.fetchall()\n",
    "print(\"------ Atributos de la tabla -------\")\n",
    "for atributo in roles:\n",
    "    print(f\"Nombre: {atributo[0]}, Tipo: {atributo[1]}, Nulo: {atributo[2]}, Clave: {atributo[3]}, Predeterminado: {atributo[4]}, Extra: {atributo[5]}\")\n",
    "print(\"------------------------------------\")\n",
    "\n",
    "\n",
    "#Imprimimos los valores de la tabla roles\n",
    "print(\"Valores de la tabla roles\")\n",
    "cursor.execute('SELECT * FROM roles;')\n",
    "# Obtener resultados\n",
    "valores_roles = cursor.fetchall()\n",
    "for fila in valores_roles:\n",
    "    print(fila)"
   ]
  },
  {
   "cell_type": "markdown",
   "metadata": {},
   "source": [
    "Se cuentan con 9 roles para la Aplicación Web:\n",
    "\n",
    "* **Administración y mantenimiento del sistema**: Se encargan de administrar y darle mantenimiento a la Aplicación Web.\n",
    "* **Gestión de la información**: Gestionan la información a los diferentes departamentos de la universidad.\n",
    "* **Rectoría**: Visualizan la información de los centros universitarios, mediante dashboards.\n",
    "* **Secretario Académico**: Recibe los informes de gestión de la información y visualiza la información de los centros universitarios mediante dashboards.\n",
    "* **Directores de División**: Visualizan las estadísticas de la encuesta con base en su división.\n",
    "* **Jefes de departamento**: Visualizan las estadísticas de la encuesta con base en sus departamentos.\n",
    "* **Coordinadores de Carrera**: Analizan la información obtenida por sus respectivas carreras.\n",
    "* **Profesores**: Visualizan sus datos con forma a la aplicación de la encuesta.\n",
    "* **Estudiantes**: Contestan la encuesta con base en su ciclo en curso."
   ]
  },
  {
   "cell_type": "markdown",
   "metadata": {},
   "source": [
    "**Revisamos los atributos e información que componen la tabla situaciones_academicas**"
   ]
  },
  {
   "cell_type": "code",
   "execution_count": 22,
   "metadata": {},
   "outputs": [
    {
     "name": "stdout",
     "output_type": "stream",
     "text": [
      "------ Atributos de la tabla -------\n",
      "Nombre: id_situacion_academica, Tipo: tinyint(4), Nulo: NO, Clave: PRI, Predeterminado: None, Extra: \n",
      "Nombre: situacion_academica, Tipo: varchar(100), Nulo: NO, Clave: , Predeterminado: None, Extra: \n",
      "------------------------------------\n",
      "Valores de la tabla situaciones_academicas\n",
      "(1, 'En licencia')\n",
      "(2, 'Activo')\n",
      "(3, 'Intercambio')\n",
      "(4, 'Articulo 33')\n",
      "(5, 'Articulo 34')\n",
      "(6, 'Articulo 35')\n",
      "(7, 'Baja Voluntaria')\n",
      "(8, 'Baja Administrativa')\n",
      "(9, 'Desactivado')\n"
     ]
    }
   ],
   "source": [
    "# Revisamos como esta compuesta la información de la tabla situaciones_academicas\n",
    "cursor.execute('DESCRIBE situaciones_academicas;')\n",
    "# Obtener resultados\n",
    "situaciones_academicas = cursor.fetchall()\n",
    "print(\"------ Atributos de la tabla -------\")\n",
    "for atributo in situaciones_academicas:\n",
    "    print(f\"Nombre: {atributo[0]}, Tipo: {atributo[1]}, Nulo: {atributo[2]}, Clave: {atributo[3]}, Predeterminado: {atributo[4]}, Extra: {atributo[5]}\")\n",
    "print(\"------------------------------------\")\n",
    "\n",
    "\n",
    "#Imprimimos los valores de la tabla situaciones_academicas\n",
    "print(\"Valores de la tabla situaciones_academicas\")\n",
    "cursor.execute('SELECT * FROM situaciones_academicas;')\n",
    "# Obtener resultados\n",
    "valores_situaciones_academicas = cursor.fetchall()\n",
    "for fila in valores_situaciones_academicas:\n",
    "    print(fila)"
   ]
  },
  {
   "cell_type": "markdown",
   "metadata": {},
   "source": [
    "Se tienen 9 situaciones académicas, aplicables solo para estudiantes de la universidad, que van desde en licencia hasta desactivado.\n",
    "\n",
    "* **En licencia**: El estudiante ha enviado a la coordinación de la carrera una solicitud para realizar otras actividades y retomar el plan de estudios o cargo más adelante.\n",
    "* **Activo**: El estudiante se encuentran activos para interactuar en la aplicación Web.\n",
    "* **Intercambio**: El estudiante realizan un intercambio en otro país.\n",
    "* **Artículo 33**: Si por cualquier circunstancia el estudiante no aprueba en ordinario, ni extraordinario una materia, tienes derecho a repetirla en el ciclo escolar inmediato siguiente, teniendo la oportunidad de aprobarla en ordinario o extraordinario, si en estas oportunidades no la aprueba, se le dará de baja de la Universidad.\n",
    "* **Artículo 34**: El estudiante que haya sido dado de baja conforme al artículo 33 podrá solicitar por escrito a la Comisión de Educación del Consejo de Centro o de Escuela, antes del inicio del ciclo inmediato siguiente en que haya sido dado de baja, una nueva oportunidad para acreditar la materia o materias que adeude.\n",
    "* **Artículo 35**: A los estudiantes que sean dados de baja de la Universidad conforme a los artículos 32, 33 y 34 de este ordenamiento, no se les autorizará su reingreso a la carrera o posgrado por el cual se les dio de baja.\n",
    "* **Baja Voluntaria**: El estudiante o el profesor dejan sus responsabilidades de la universidad de manera voluntaria.\n",
    "* **Baja Administrativa**: Haber infringido alguna de las obligaciones o reglamentos institucionales.\n",
    "* **Desactivado**: El estudiante no se encuentra activo para interactuar en la aplicación Web."
   ]
  },
  {
   "cell_type": "markdown",
   "metadata": {},
   "source": [
    "**Revisamos los atributos e información que componen la tabla tipos_contratos**"
   ]
  },
  {
   "cell_type": "code",
   "execution_count": 23,
   "metadata": {},
   "outputs": [
    {
     "name": "stdout",
     "output_type": "stream",
     "text": [
      "------ Atributos de la tabla -------\n",
      "Nombre: id_tipo_contrato, Tipo: tinyint(4), Nulo: NO, Clave: PRI, Predeterminado: None, Extra: \n",
      "Nombre: tipo_contrato, Tipo: varchar(100), Nulo: NO, Clave: , Predeterminado: None, Extra: \n",
      "------------------------------------\n",
      "Valores de la tabla tipos_contratos\n",
      "(1, 'Definitivo')\n",
      "(2, 'Permanente o por tiempo indeterminado')\n",
      "(3, 'Permanente o por tiempo indeterminado')\n"
     ]
    }
   ],
   "source": [
    "# Revisamos como esta compuesta la información de la tabla tipos_contratos\n",
    "cursor.execute('DESCRIBE tipos_contratos;')\n",
    "# Obtener resultados\n",
    "tipos_contratos = cursor.fetchall()\n",
    "print(\"------ Atributos de la tabla -------\")\n",
    "for atributo in tipos_contratos:\n",
    "    print(f\"Nombre: {atributo[0]}, Tipo: {atributo[1]}, Nulo: {atributo[2]}, Clave: {atributo[3]}, Predeterminado: {atributo[4]}, Extra: {atributo[5]}\")\n",
    "print(\"------------------------------------\")\n",
    "\n",
    "\n",
    "#Imprimimos los valores de la tabla tipos_contratos\n",
    "print(\"Valores de la tabla tipos_contratos\")\n",
    "cursor.execute('SELECT * FROM tipos_contratos;')\n",
    "# Obtener resultados\n",
    "valores_tipos_contratos = cursor.fetchall()\n",
    "for fila in valores_tipos_contratos:\n",
    "    print(fila)"
   ]
  },
  {
   "cell_type": "markdown",
   "metadata": {},
   "source": [
    "Se contemplan los tres tipos de contratos que pueden tener profesores en la universidad:\n",
    "\n",
    "* **Definivo**: El profesor es un profesor de planta en la universidad.\n",
    "* **Permanente o por tiempo indeterminado**: El profesor realizará sus labores por tiempo permanente.\n",
    "* **Por tiempo definido o determinado**: El profesor realizará sus labores por un tiempo determinado.\n",
    "\n",
    "---"
   ]
  },
  {
   "cell_type": "markdown",
   "metadata": {},
   "source": [
    "# <a id=\"3\">3. Limpieza de datos<a> 🛠"
   ]
  },
  {
   "cell_type": "markdown",
   "metadata": {},
   "source": [
    "En esta etapa vamos a introducir o estandarizar la información para el análisis posterior, con base a lo presentado en la etapa 2, descripción de los datos. Se tiene que la tabla tipo de contrato, cuenta con un valor, el cual no empieza con una letra mayúscula, para lo cual vamos a corregirlo."
   ]
  },
  {
   "cell_type": "code",
   "execution_count": 24,
   "metadata": {},
   "outputs": [
    {
     "name": "stdout",
     "output_type": "stream",
     "text": [
      "Valores de la tabla tipos_contratos\n",
      "(1, 'Definitivo')\n",
      "(2, 'Permanente o por tiempo indeterminado')\n",
      "(3, 'Permanente o por tiempo indeterminado')\n"
     ]
    }
   ],
   "source": [
    "# Ejecutamos y actualizamos el registro con base al id del tipo de contrato\n",
    "cursor.execute('UPDATE tipos_contratos SET tipo_contrato = \"Permanente o por tiempo indeterminado\" WHERE id_tipo_contrato = 2;')\n",
    "#Realizamos el commit\n",
    "conexion.commit()\n",
    "\n",
    "\n",
    "#Imprimimos los valores de la tabla tipos_contratos\n",
    "print(\"Valores de la tabla tipos_contratos\")\n",
    "cursor.execute('SELECT * FROM tipos_contratos;')\n",
    "# Obtener resultados\n",
    "valores_tipos_contratos = cursor.fetchall()\n",
    "for fila in valores_tipos_contratos:\n",
    "    print(fila)"
   ]
  },
  {
   "cell_type": "markdown",
   "metadata": {},
   "source": [
    "---"
   ]
  },
  {
   "cell_type": "markdown",
   "metadata": {},
   "source": [
    "# <a id=\"4\">4. Missing values<a> 🔮"
   ]
  },
  {
   "cell_type": "markdown",
   "metadata": {},
   "source": [
    "De acuerdo con lo realizado en la etapa 2, descripción de los datos. Algunos estudiantes no presentan el nombre materno, lo cual vamos a corregir, poniendo el valor de **Sin Información**."
   ]
  },
  {
   "cell_type": "code",
   "execution_count": 25,
   "metadata": {},
   "outputs": [
    {
     "name": "stdout",
     "output_type": "stream",
     "text": [
      "Valores de la tabla estudiantes\n",
      "('111111011', 'estudiante_011', 'eappelido_pat011', 'eappelido_mat011', 2, 4, 1, 1, 1, 1, 3, 2, 9, '$2b$12$rln.OhhvbnJurBGsPQg.OO6/jbDVUbFF/mSG/l6nhlf/.8gul4UKe', 0)\n",
      "('111111012', 'estudiante_012', 'eappelido_pat012', 'Sin Información', 1, 2, 1, 1, 2, 1, 3, 2, 9, '$2b$12$rln.OhhvbnJurBGsPQg.OO6/jbDVUbFF/mSG/l6nhlf/.8gul4UKe', 0)\n",
      "('111111013', 'estudiante_013', 'eappelido_pat013', 'eappelido_mat013', 4, 3, 1, 1, 1, 1, 3, 2, 9, '$2b$12$rln.OhhvbnJurBGsPQg.OO6/jbDVUbFF/mSG/l6nhlf/.8gul4UKe', 0)\n",
      "('111111014', 'estudiante_014', 'eappelido_pat014', 'eappelido_mat014', 2, 5, 1, 1, 2, 1, 3, 2, 9, '$2b$12$rln.OhhvbnJurBGsPQg.OO6/jbDVUbFF/mSG/l6nhlf/.8gul4UKe', 0)\n",
      "('111111015', 'estudiante_015', 'eappelido_pat015', 'Sin Información', 3, 4, 1, 1, 1, 1, 3, 2, 9, '$2b$12$rln.OhhvbnJurBGsPQg.OO6/jbDVUbFF/mSG/l6nhlf/.8gul4UKe', 0)\n",
      "('111111016', 'estudiante_016', 'eappelido_pat016', 'eappelido_mat016', 1, 2, 1, 1, 2, 1, 3, 2, 9, '$2b$12$rln.OhhvbnJurBGsPQg.OO6/jbDVUbFF/mSG/l6nhlf/.8gul4UKe', 0)\n",
      "('111111017', 'estudiante_017', 'eappelido_pat017', 'Sin Información', 4, 3, 1, 1, 1, 1, 3, 2, 9, '$2b$12$rln.OhhvbnJurBGsPQg.OO6/jbDVUbFF/mSG/l6nhlf/.8gul4UKe', 0)\n",
      "('111111018', 'estudiante_018', 'eappelido_pat018', 'eappelido_mat018', 2, 5, 1, 1, 2, 1, 3, 2, 9, '$2b$12$rln.OhhvbnJurBGsPQg.OO6/jbDVUbFF/mSG/l6nhlf/.8gul4UKe', 0)\n",
      "('111111019', 'estudiante_019', 'eappelido_pat019', 'Sin Información', 1, 4, 1, 1, 1, 1, 3, 2, 9, '$2b$12$rln.OhhvbnJurBGsPQg.OO6/jbDVUbFF/mSG/l6nhlf/.8gul4UKe', 0)\n",
      "('111111020', 'estudiante_020', 'eappelido_pat020', 'eappelido_mat020', 3, 2, 1, 1, 2, 1, 3, 2, 9, '$2b$12$rln.OhhvbnJurBGsPQg.OO6/jbDVUbFF/mSG/l6nhlf/.8gul4UKe', 0)\n",
      "('111111021', 'estudiante_021', 'eappelido_pat021', 'Sin Información', 2, 3, 1, 1, 1, 1, 3, 2, 9, '$2b$12$rln.OhhvbnJurBGsPQg.OO6/jbDVUbFF/mSG/l6nhlf/.8gul4UKe', 0)\n",
      "('111111022', 'estudiante_022', 'eappelido_pat022', 'eappelido_mat022', 1, 4, 1, 1, 2, 1, 3, 2, 9, '$2b$12$rln.OhhvbnJurBGsPQg.OO6/jbDVUbFF/mSG/l6nhlf/.8gul4UKe', 0)\n",
      "('111111110', 'estudiante_010', 'eappelido_pat010', 'eappelido_mat010', 3, 3, 1, 1, 2, 1, 3, 2, 9, '$2b$12$rln.OhhvbnJurBGsPQg.OO6/jbDVUbFF/mSG/l6nhlf/.8gul4UKe', 0)\n",
      "('111111111', 'estudiante_001', 'eappelido_pat001', 'eappelido_mat001', 2, 3, 1, 1, 1, 1, 3, 2, 9, '$2b$12$rln.OhhvbnJurBGsPQg.OO6/jbDVUbFF/mSG/l6nhlf/.8gul4UKe', 0)\n",
      "('111111112', 'estudiante_002', 'eappelido_pat002', 'eappelido_mat002', 1, 4, 1, 1, 2, 1, 3, 2, 9, '$2b$12$rln.OhhvbnJurBGsPQg.OO6/jbDVUbFF/mSG/l6nhlf/.8gul4UKe', 0)\n",
      "('111111113', 'estudiante_003', 'eappelido_pat003', 'eappelido_mat003', 3, 5, 1, 1, 1, 1, 3, 2, 9, '$2b$12$rln.OhhvbnJurBGsPQg.OO6/jbDVUbFF/mSG/l6nhlf/.8gul4UKe', 0)\n",
      "('111111114', 'estudiante_004', 'eappelido_pat004', 'eappelido_mat004', 2, 2, 1, 1, 2, 1, 3, 2, 9, '$2b$12$rln.OhhvbnJurBGsPQg.OO6/jbDVUbFF/mSG/l6nhlf/.8gul4UKe', 0)\n",
      "('111111115', 'estudiante_005', 'eappelido_pat005', 'eappelido_mat005', 4, 1, 1, 1, 1, 1, 3, 2, 9, '$2b$12$rln.OhhvbnJurBGsPQg.OO6/jbDVUbFF/mSG/l6nhlf/.8gul4UKe', 0)\n",
      "('111111116', 'estudiante_006', 'eappelido_pat006', 'eappelido_mat006', 1, 3, 1, 1, 2, 1, 3, 2, 9, '$2b$12$rln.OhhvbnJurBGsPQg.OO6/jbDVUbFF/mSG/l6nhlf/.8gul4UKe', 0)\n",
      "('111111117', 'estudiante_007', 'eappelido_pat007', 'Sin Información', 3, 4, 1, 1, 1, 1, 3, 2, 9, '$2b$12$rln.OhhvbnJurBGsPQg.OO6/jbDVUbFF/mSG/l6nhlf/.8gul4UKe', 0)\n",
      "('111111118', 'estudiante_008', 'eappelido_pat008', 'eappelido_mat008', 2, 5, 1, 1, 2, 1, 3, 2, 9, '$2b$12$rln.OhhvbnJurBGsPQg.OO6/jbDVUbFF/mSG/l6nhlf/.8gul4UKe', 0)\n",
      "('111111119', 'estudiante_009', 'eappelido_pat009', 'eappelido_mat009', 1, 2, 1, 1, 1, 1, 3, 2, 9, '$2b$12$rln.OhhvbnJurBGsPQg.OO6/jbDVUbFF/mSG/l6nhlf/.8gul4UKe', 0)\n"
     ]
    }
   ],
   "source": [
    "# Ejecutamos y actualizamos el registro con base a los ids de los estudiantes\n",
    "cursor.execute('UPDATE estudiantes SET apellido_materno = \"Sin Información\" WHERE codigo_estudiante IN (111111012,111111015,111111017,111111019,111111021,111111117);')\n",
    "#Realizamos el commit\n",
    "conexion.commit()\n",
    "\n",
    "\n",
    "#Imprimimos los valores de la tabla estudiantes\n",
    "print(\"Valores de la tabla estudiantes\")\n",
    "cursor.execute('SELECT * FROM estudiantes;')\n",
    "# Obtener resultados\n",
    "valores_estudiantes = cursor.fetchall()\n",
    "for fila in valores_estudiantes:\n",
    "    print(fila)"
   ]
  },
  {
   "cell_type": "markdown",
   "metadata": {},
   "source": [
    "---"
   ]
  },
  {
   "cell_type": "markdown",
   "metadata": {},
   "source": [
    "# <a id=\"5\">5. Visualización de datos<a> 📊"
   ]
  },
  {
   "cell_type": "markdown",
   "metadata": {},
   "source": [
    "Para el análisis y visualización de la base de datos limpia, nos centraremos en las tablas, las cuales presentarán registros y no son catalogadas como catálogos, por ejemplo: Estudiantes,\n",
    "profesores, resultado_encuesta_historico y resultado_encuesta_ultimo_ciclo."
   ]
  },
  {
   "cell_type": "markdown",
   "metadata": {},
   "source": [
    "## ¿Cuántos estudiantes tenemos en cada nivel?"
   ]
  },
  {
   "cell_type": "code",
   "execution_count": 26,
   "metadata": {},
   "outputs": [
    {
     "data": {
      "application/vnd.vegalite.v5+json": {
       "$schema": "https://vega.github.io/schema/vega-lite/v5.8.0.json",
       "config": {
        "view": {
         "continuousHeight": 300,
         "continuousWidth": 300
        }
       },
       "data": {
        "name": "data-34faffec45349dd09f61ec7202db13c3"
       },
       "datasets": {
        "data-34faffec45349dd09f61ec7202db13c3": [
         {
          "Nivel": "Bachillerato",
          "Nivel_Educativo": 7
         },
         {
          "Nivel": "Licenciatura",
          "Nivel_Educativo": 5
         },
         {
          "Nivel": "Maestría",
          "Nivel_Educativo": 3
         },
         {
          "Nivel": "Técnico Superior Universitario",
          "Nivel_Educativo": 7
         }
        ]
       },
       "encoding": {
        "color": {
         "field": "Nivel",
         "title": "Número de estudiantes por nivel",
         "type": "nominal"
        },
        "x": {
         "field": "Nivel",
         "title": "Número de estudiantes por nivel",
         "type": "nominal"
        },
        "y": {
         "field": "Nivel_Educativo",
         "title": "Nivel Educativo",
         "type": "quantitative"
        }
       },
       "height": 500,
       "mark": {
        "type": "bar"
       },
       "title": "¿Cuántos estudiantes tenemos en cada nivel?",
       "width": 1500
      },
      "text/plain": [
       "<VegaLite 5 object>\n",
       "\n",
       "If you see this message, it means the renderer has not been properly enabled\n",
       "for the frontend that you are using. For more information, see\n",
       "https://altair-viz.github.io/user_guide/display_frontends.html#troubleshooting\n"
      ]
     },
     "execution_count": 26,
     "metadata": {},
     "output_type": "execute_result"
    }
   ],
   "source": [
    "# Consulta SQL (estudiantes - nivel educativo)\n",
    "query = 'SELECT ne.nivel AS Nivel, COUNT(ne.nivel) AS Nivel_Educativo FROM estudiantes e INNER JOIN niveles_educativos ne ON e.nivel = ne.id_nivel GROUP BY ne.nivel'\n",
    "\n",
    "# Leemos la query y se la asignamos a un dataframe\n",
    "df_niveles_educativos = pd.read_sql(query, conexion)\n",
    "\n",
    "#Generamos la gráfica\n",
    "alt.Chart(df_niveles_educativos).mark_bar().encode(\n",
    "    alt.X(\"Nivel:N\", title=\"Número de estudiantes por nivel\"),\n",
    "    alt.Y(\"Nivel_Educativo:Q\", title=\"Nivel Educativo\"),\n",
    "    alt.Color(\"Nivel:N\", title=\"Número de estudiantes por nivel\"),\n",
    ").properties(\n",
    "    width=1500,\n",
    "    height=500,\n",
    "    title=\"¿Cuántos estudiantes tenemos en cada nivel?\"\n",
    ")\n"
   ]
  },
  {
   "cell_type": "markdown",
   "metadata": {},
   "source": [
    "## ¿Cuántos estudiantes tienen una situación academica?"
   ]
  },
  {
   "cell_type": "code",
   "execution_count": 27,
   "metadata": {},
   "outputs": [
    {
     "data": {
      "application/vnd.vegalite.v5+json": {
       "$schema": "https://vega.github.io/schema/vega-lite/v5.8.0.json",
       "config": {
        "view": {
         "continuousHeight": 300,
         "continuousWidth": 300
        }
       },
       "data": {
        "name": "data-6fe3b6daf849c1792801bc54946fb3fb"
       },
       "datasets": {
        "data-6fe3b6daf849c1792801bc54946fb3fb": [
         {
          "count": 5,
          "situacion_academica": "Activo"
         },
         {
          "count": 6,
          "situacion_academica": "Articulo 33"
         },
         {
          "count": 4,
          "situacion_academica": "Articulo 34"
         },
         {
          "count": 1,
          "situacion_academica": "En licencia"
         },
         {
          "count": 6,
          "situacion_academica": "Intercambio"
         }
        ]
       },
       "encoding": {
        "color": {
         "field": "situacion_academica",
         "title": "Situaciónes academicas",
         "type": "nominal"
        },
        "x": {
         "field": "situacion_academica",
         "title": "Situaciónes academicas",
         "type": "nominal"
        },
        "y": {
         "field": "count",
         "title": "Número de situaciónes acedemicas por estudiante",
         "type": "quantitative"
        }
       },
       "height": 500,
       "mark": {
        "type": "bar"
       },
       "title": "¿Cuántos estudiantes tienen una situación academica?",
       "width": 1500
      },
      "text/plain": [
       "<VegaLite 5 object>\n",
       "\n",
       "If you see this message, it means the renderer has not been properly enabled\n",
       "for the frontend that you are using. For more information, see\n",
       "https://altair-viz.github.io/user_guide/display_frontends.html#troubleshooting\n"
      ]
     },
     "execution_count": 27,
     "metadata": {},
     "output_type": "execute_result"
    }
   ],
   "source": [
    "# Consulta SQL (estudiantes - Situacion academica)\n",
    "query = 'SELECT sa.situacion_academica, COUNT(sa.situacion_academica) AS count FROM estudiantes e INNER JOIN situaciones_academicas sa ON e.situacion = sa.id_situacion_academica GROUP BY sa.situacion_academica'\n",
    "\n",
    "# Ejecutamos la consulta y asignamos la infromación a un dataframe\n",
    "df_situacion_academica = pd.read_sql(query, conexion)\n",
    "\n",
    "#Graficamos la infromación\n",
    "alt.Chart(df_situacion_academica).mark_bar().encode(\n",
    "    alt.X(\"situacion_academica:N\", title=\"Situaciónes academicas\"),\n",
    "    alt.Y(\"count:Q\", title=\"Número de situaciónes acedemicas por estudiante\"),\n",
    "    alt.Color(\"situacion_academica:N\", title=\"Situaciónes academicas\"),\n",
    ").properties(\n",
    "    width=1500,\n",
    "    height=500,\n",
    "    title=\"¿Cuántos estudiantes tienen una situación academica?\"\n",
    ")"
   ]
  },
  {
   "cell_type": "markdown",
   "metadata": {},
   "source": [
    "## ¿Cuántos hombres y mujeres estudian en la universidad?"
   ]
  },
  {
   "cell_type": "code",
   "execution_count": 28,
   "metadata": {},
   "outputs": [
    {
     "data": {
      "application/vnd.vegalite.v5+json": {
       "$schema": "https://vega.github.io/schema/vega-lite/v5.8.0.json",
       "config": {
        "view": {
         "continuousHeight": 300,
         "continuousWidth": 300
        }
       },
       "data": {
        "name": "data-63585cd6d893f348e65a4bc74968c6ef"
       },
       "datasets": {
        "data-63585cd6d893f348e65a4bc74968c6ef": [
         {
          "count": 11,
          "genero": "Femenino"
         },
         {
          "count": 11,
          "genero": "Masculino"
         }
        ]
       },
       "encoding": {
        "color": {
         "field": "genero",
         "title": "Géneros",
         "type": "nominal"
        },
        "x": {
         "field": "genero",
         "title": "Géneros",
         "type": "nominal"
        },
        "y": {
         "field": "count",
         "title": "Número de estudiantes Femenino y Masculino",
         "type": "quantitative"
        }
       },
       "height": 500,
       "mark": {
        "type": "bar"
       },
       "title": "¿Cuántos hombres y mujeres estudian en la universidad?",
       "width": 1500
      },
      "text/plain": [
       "<VegaLite 5 object>\n",
       "\n",
       "If you see this message, it means the renderer has not been properly enabled\n",
       "for the frontend that you are using. For more information, see\n",
       "https://altair-viz.github.io/user_guide/display_frontends.html#troubleshooting\n"
      ]
     },
     "execution_count": 28,
     "metadata": {},
     "output_type": "execute_result"
    }
   ],
   "source": [
    "# Generamos la consulta de estudiantes - generos\n",
    "query = 'SELECT  g.genero, COUNT(g.genero) AS count  FROM estudiantes e INNER JOIN generos g ON e.genero = g.id_genero GROUP BY g.genero'\n",
    "\n",
    "# Asignamos los resultados al dataframe\n",
    "df_genero = pd.read_sql(query, conexion)\n",
    "\n",
    "#Graficamos la infromación\n",
    "alt.Chart(df_genero).mark_bar().encode(\n",
    "    alt.X(\"genero:N\", title=\"Géneros\"),\n",
    "    alt.Y(\"count:Q\", title=\"Número de estudiantes Femenino y Masculino\"),\n",
    "    alt.Color(\"genero:N\", title=\"Géneros\"),\n",
    ").properties(\n",
    "    width=1500,\n",
    "    height=500,\n",
    "    title=\"¿Cuántos hombres y mujeres estudian en la universidad?\"\n",
    ")"
   ]
  },
  {
   "cell_type": "markdown",
   "metadata": {},
   "source": [
    "## ¿Cuántos profesores tienen un grado de SNII?"
   ]
  },
  {
   "cell_type": "code",
   "execution_count": 29,
   "metadata": {},
   "outputs": [
    {
     "data": {
      "application/vnd.vegalite.v5+json": {
       "$schema": "https://vega.github.io/schema/vega-lite/v5.8.0.json",
       "config": {
        "view": {
         "continuousHeight": 300,
         "continuousWidth": 300
        }
       },
       "data": {
        "name": "data-6b37e44cfa44de4e07ce893aaea1cc23"
       },
       "datasets": {
        "data-6b37e44cfa44de4e07ce893aaea1cc23": [
         {
          "count": 4,
          "sni": "I"
         },
         {
          "count": 5,
          "sni": "II"
         },
         {
          "count": 1,
          "sni": "III"
         }
        ]
       },
       "encoding": {
        "color": {
         "field": "sni",
         "title": "Grado SNII",
         "type": "nominal"
        },
        "x": {
         "field": "sni",
         "title": "Grado SNII",
         "type": "nominal"
        },
        "y": {
         "field": "count",
         "title": "Número de SNII por profesor",
         "type": "quantitative"
        }
       },
       "height": 500,
       "mark": {
        "type": "bar"
       },
       "title": "¿Cuántos profesores tienen un grado de SNII?",
       "width": 1500
      },
      "text/plain": [
       "<VegaLite 5 object>\n",
       "\n",
       "If you see this message, it means the renderer has not been properly enabled\n",
       "for the frontend that you are using. For more information, see\n",
       "https://altair-viz.github.io/user_guide/display_frontends.html#troubleshooting\n"
      ]
     },
     "execution_count": 29,
     "metadata": {},
     "output_type": "execute_result"
    }
   ],
   "source": [
    "# Generamos la consulta de profesores - snii\n",
    "query = 'SELECT  p.sni, COUNT(p.sni) AS count FROM profesores p GROUP BY p.sni'\n",
    "\n",
    "# Asignamos los resultados al dataframe\n",
    "df_snii = pd.read_sql(query, conexion)\n",
    "\n",
    "#Graficamos la infromación\n",
    "alt.Chart(df_snii).mark_bar().encode(\n",
    "    alt.X(\"sni:N\", title=\"Grado SNII\"),\n",
    "    alt.Y(\"count:Q\", title=\"Número de SNII por profesor\"),\n",
    "    alt.Color(\"sni:N\", title=\"Grado SNII\"),\n",
    ").properties(\n",
    "    width=1500,\n",
    "    height=500,\n",
    "    title=\"¿Cuántos profesores tienen un grado de SNII?\"\n",
    ")"
   ]
  },
  {
   "cell_type": "markdown",
   "metadata": {},
   "source": [
    "## ¿Cuántos profesores, hombres y mujeres tenemos en la universidad?"
   ]
  },
  {
   "cell_type": "code",
   "execution_count": 30,
   "metadata": {},
   "outputs": [
    {
     "data": {
      "application/vnd.vegalite.v5+json": {
       "$schema": "https://vega.github.io/schema/vega-lite/v5.8.0.json",
       "config": {
        "view": {
         "continuousHeight": 300,
         "continuousWidth": 300
        }
       },
       "data": {
        "name": "data-ef722a58c06c1b98af8d30492b7e7223"
       },
       "datasets": {
        "data-ef722a58c06c1b98af8d30492b7e7223": [
         {
          "count": 5,
          "genero": "Femenino"
         },
         {
          "count": 5,
          "genero": "Masculino"
         }
        ]
       },
       "encoding": {
        "color": {
         "field": "genero",
         "title": "Géneros",
         "type": "nominal"
        },
        "x": {
         "field": "genero",
         "title": "Géneros",
         "type": "nominal"
        },
        "y": {
         "field": "count",
         "title": "Número de profesores Femenino y Masculino",
         "type": "quantitative"
        }
       },
       "height": 500,
       "mark": {
        "type": "bar"
       },
       "title": "¿Cuántos profesores, hombres y mujeres tenemos en la universidad?",
       "width": 1500
      },
      "text/plain": [
       "<VegaLite 5 object>\n",
       "\n",
       "If you see this message, it means the renderer has not been properly enabled\n",
       "for the frontend that you are using. For more information, see\n",
       "https://altair-viz.github.io/user_guide/display_frontends.html#troubleshooting\n"
      ]
     },
     "execution_count": 30,
     "metadata": {},
     "output_type": "execute_result"
    }
   ],
   "source": [
    "# Generamos la consulta de estudiantes - generos\n",
    "query = 'SELECT  g.genero, COUNT(g.genero) AS count FROM profesores p INNER JOIN generos g ON p.genero = g.id_genero GROUP BY g.genero'\n",
    "\n",
    "# Asignamos los resultados al dataframe\n",
    "df_profesor_genero = pd.read_sql(query, conexion)\n",
    "\n",
    "#Graficamos la infromación\n",
    "alt.Chart(df_profesor_genero).mark_bar().encode(\n",
    "    alt.X(\"genero:N\", title=\"Géneros\"),\n",
    "    alt.Y(\"count:Q\", title=\"Número de profesores Femenino y Masculino\"),\n",
    "    alt.Color(\"genero:N\", title=\"Géneros\"),\n",
    ").properties(\n",
    "    width=1500,\n",
    "    height=500,\n",
    "    title=\"¿Cuántos profesores, hombres y mujeres tenemos en la universidad?\"\n",
    ")"
   ]
  },
  {
   "cell_type": "markdown",
   "metadata": {},
   "source": [
    "## ¿Cuántos profesores cuentan con un grado educativo?"
   ]
  },
  {
   "cell_type": "code",
   "execution_count": 31,
   "metadata": {},
   "outputs": [
    {
     "data": {
      "application/vnd.vegalite.v5+json": {
       "$schema": "https://vega.github.io/schema/vega-lite/v5.8.0.json",
       "config": {
        "view": {
         "continuousHeight": 300,
         "continuousWidth": 300
        }
       },
       "data": {
        "name": "data-e22e7fe080666e42a72cde3817d09ca9"
       },
       "datasets": {
        "data-e22e7fe080666e42a72cde3817d09ca9": [
         {
          "Nivel": "Doctorado",
          "Nivel_Educativo": 4
         },
         {
          "Nivel": "Maestría",
          "Nivel_Educativo": 6
         }
        ]
       },
       "encoding": {
        "color": {
         "field": "Nivel",
         "title": "Nivel educativo alcanzado",
         "type": "nominal"
        },
        "x": {
         "field": "Nivel",
         "title": "Nivel educativo alcanzado",
         "type": "nominal"
        },
        "y": {
         "field": "Nivel_Educativo",
         "title": "Número de profesores por nivel",
         "type": "quantitative"
        }
       },
       "height": 500,
       "mark": {
        "type": "bar"
       },
       "title": "¿Cuántos profesores cuentan con un grado educativo?",
       "width": 1500
      },
      "text/plain": [
       "<VegaLite 5 object>\n",
       "\n",
       "If you see this message, it means the renderer has not been properly enabled\n",
       "for the frontend that you are using. For more information, see\n",
       "https://altair-viz.github.io/user_guide/display_frontends.html#troubleshooting\n"
      ]
     },
     "execution_count": 31,
     "metadata": {},
     "output_type": "execute_result"
    }
   ],
   "source": [
    "# Consulta SQL (profesores - nivel educativo)\n",
    "query = 'SELECT ne.nivel AS Nivel, COUNT(ne.nivel) AS Nivel_Educativo FROM profesores p INNER JOIN niveles_educativos ne ON p.grado_estudio = ne.id_nivel GROUP BY ne.nivel'\n",
    "\n",
    "# Leemos la query y se la asignamos a un dataframe\n",
    "df_profesor_nivele_educativo = pd.read_sql(query, conexion)\n",
    "\n",
    "#Generamos la gráfica\n",
    "alt.Chart(df_profesor_nivele_educativo).mark_bar().encode(\n",
    "    alt.X(\"Nivel:N\", title=\"Nivel educativo alcanzado\"),\n",
    "    alt.Y(\"Nivel_Educativo:Q\", title=\"Número de profesores por nivel\"),\n",
    "    alt.Color(\"Nivel:N\", title=\"Nivel educativo alcanzado\"),\n",
    ").properties(\n",
    "    width=1500,\n",
    "    height=500,\n",
    "    title=\"¿Cuántos profesores cuentan con un grado educativo?\"\n",
    ")\n"
   ]
  },
  {
   "cell_type": "markdown",
   "metadata": {},
   "source": [
    "## ¿Cuántos profesores tenemos por tipo de contrato?"
   ]
  },
  {
   "cell_type": "code",
   "execution_count": 32,
   "metadata": {},
   "outputs": [
    {
     "data": {
      "application/vnd.vegalite.v5+json": {
       "$schema": "https://vega.github.io/schema/vega-lite/v5.8.0.json",
       "config": {
        "view": {
         "continuousHeight": 300,
         "continuousWidth": 300
        }
       },
       "data": {
        "name": "data-dde63021eb35b33c65c324c2776f0c96"
       },
       "datasets": {
        "data-dde63021eb35b33c65c324c2776f0c96": [
         {
          "count": 6,
          "tipo_contrato": "Definitivo"
         },
         {
          "count": 4,
          "tipo_contrato": "Permanente o por tiempo indeterminado"
         }
        ]
       },
       "encoding": {
        "color": {
         "field": "tipo_contrato",
         "title": "Tipo de contratos",
         "type": "nominal"
        },
        "x": {
         "field": "tipo_contrato",
         "title": "Tipo de contratos",
         "type": "nominal"
        },
        "y": {
         "field": "count",
         "title": "Profesores asignados a un tipo de contrato",
         "type": "quantitative"
        }
       },
       "height": 500,
       "mark": {
        "type": "bar"
       },
       "title": "¿Cuántos profesores tenemos por tipo de contrato?",
       "width": 1500
      },
      "text/plain": [
       "<VegaLite 5 object>\n",
       "\n",
       "If you see this message, it means the renderer has not been properly enabled\n",
       "for the frontend that you are using. For more information, see\n",
       "https://altair-viz.github.io/user_guide/display_frontends.html#troubleshooting\n"
      ]
     },
     "execution_count": 32,
     "metadata": {},
     "output_type": "execute_result"
    }
   ],
   "source": [
    "# Consulta SQL (profesores - tipo de contrato)\n",
    "query = 'SELECT tp.tipo_contrato, COUNT(tp.tipo_contrato) AS count FROM profesores p INNER JOIN tipos_contratos tp ON p.tipo_contrato = tp.id_tipo_contrato GROUP BY tp.tipo_contrato'\n",
    "\n",
    "# Leemos la query y se la asignamos a un dataframe\n",
    "df_profesor_tipo_contrato= pd.read_sql(query, conexion)\n",
    "\n",
    "#Generamos la gráfica\n",
    "alt.Chart(df_profesor_tipo_contrato).mark_bar().encode(\n",
    "    alt.X(\"tipo_contrato:N\", title=\"Tipo de contratos\"),\n",
    "    alt.Y(\"count:Q\", title=\"Profesores asignados a un tipo de contrato\"),\n",
    "    alt.Color(\"tipo_contrato:N\", title=\"Tipo de contratos\"),\n",
    ").properties(\n",
    "    width=1500,\n",
    "    height=500,\n",
    "    title=\"¿Cuántos profesores tenemos por tipo de contrato?\"\n",
    ")\n"
   ]
  },
  {
   "cell_type": "markdown",
   "metadata": {},
   "source": [
    "### ¿Cuántas horas semanales imparte cada profesor?"
   ]
  },
  {
   "cell_type": "code",
   "execution_count": 33,
   "metadata": {},
   "outputs": [
    {
     "name": "stdout",
     "output_type": "stream",
     "text": [
      "  codigo_profesor                                     Profesor  \\\n",
      "0         1111112  maestro_002 appelido_pat002 appelido_mat002   \n",
      "1         1111111  maestro_001 appelido_pat001 appelido_mat001   \n",
      "2         1111113  maestro_003 appelido_pat003 appelido_mat003   \n",
      "3         1111114  maestro_004 appelido_pat004 appelido_mat004   \n",
      "4         1111120  maestro_010 appelido_pat010 appelido_mat010   \n",
      "5         1111119  maestro_009 appelido_pat009 appelido_mat009   \n",
      "6         1111118  maestro_008 appelido_pat008 appelido_mat008   \n",
      "7         1111117  maestro_007 appelido_pat007 appelido_mat007   \n",
      "8         1111116  maestro_006 appelido_pat006 appelido_mat006   \n",
      "9         1111115  maestro_005 appelido_pat005 appelido_mat005   \n",
      "\n",
      "   horas_semanales  \n",
      "0              140  \n",
      "1              120  \n",
      "2              120  \n",
      "3              120  \n",
      "4               60  \n",
      "5               50  \n",
      "6               40  \n",
      "7               30  \n",
      "8               20  \n",
      "9               12  \n"
     ]
    }
   ],
   "source": [
    "# Consulta SQL (codigo de profesor, horas semanales)\n",
    "query = 'SELECT codigo_profesor, CONCAT(nombres,\" \", apellido_paterno,\" \", apellido_materno) AS Profesor, horas_semanales FROM profesores ORDER BY horas_semanales DESC;'\n",
    "\n",
    "# Leemos los datos de las horas semanales de cada profesor\n",
    "df_horas_semanales = pd.read_sql(query, conexion)\n",
    "\n",
    "#Imprimimos los resultados\n",
    "print(df_horas_semanales)"
   ]
  },
  {
   "cell_type": "markdown",
   "metadata": {},
   "source": [
    "## ¿Cuántos profesores utilizaron recursos tecnológicos?"
   ]
  },
  {
   "cell_type": "code",
   "execution_count": 34,
   "metadata": {},
   "outputs": [
    {
     "name": "stdout",
     "output_type": "stream",
     "text": [
      "   Profesores_Util_RT\n",
      "0                   3\n"
     ]
    }
   ],
   "source": [
    "# Consulta SQL (resultado_encuesta_ultimo_ciclo, profesores)\n",
    "query = \"\"\" SELECT COUNT(DISTINCT(codigo_profesor)) AS Profesores_Util_RT \n",
    "            FROM resultado_encuesta_ultimo_ciclo reuc \n",
    "            INNER JOIN respuesta_preguntas rp ON reuc.id_respuesta = rp.id_respuesta \n",
    "            WHERE no_pregunta = 10 and rp.id_respuesta = 1 OR rp.id_respuesta = 2 \"\"\"\n",
    "\n",
    "# Leer datos\n",
    "df_carrera = pd.read_sql(query, conexion)\n",
    "\n",
    "# Mostramos el contenido  del DataFrame\n",
    "print(df_carrera)"
   ]
  },
  {
   "cell_type": "markdown",
   "metadata": {},
   "source": [
    "## ¿Cuántos profesores atendieron las necesidades de los estudiantes?"
   ]
  },
  {
   "cell_type": "code",
   "execution_count": 35,
   "metadata": {},
   "outputs": [
    {
     "name": "stdout",
     "output_type": "stream",
     "text": [
      "   Profesores_att_ne\n",
      "0                  3\n"
     ]
    }
   ],
   "source": [
    "# Consulta SQL (resultado_encuesta_ultimo_ciclo, profesores)\n",
    "query = \"\"\" SELECT COUNT(DISTINCT(codigo_profesor)) AS Profesores_att_ne \n",
    "            FROM resultado_encuesta_ultimo_ciclo reuc \n",
    "            INNER JOIN respuesta_preguntas rp ON reuc.id_respuesta = rp.id_respuesta \n",
    "            WHERE no_pregunta = 7 and rp.id_respuesta = 1 OR rp.id_respuesta = 2 \"\"\"\n",
    "\n",
    "# Leemos los datos de la base de datos\n",
    "df_carrera = pd.read_sql(query, conexion)\n",
    "\n",
    "# Mostramos el resultado\n",
    "print(df_carrera)"
   ]
  },
  {
   "cell_type": "markdown",
   "metadata": {},
   "source": [
    "---"
   ]
  },
  {
   "cell_type": "markdown",
   "metadata": {},
   "source": [
    "# <a id=\"6\">6. Comentarios adicionales<a> 🥽🥼"
   ]
  },
  {
   "cell_type": "markdown",
   "metadata": {},
   "source": [
    "Durante el desarrollo del EDA, pude percatarme de varios atributos de tablas que no tenían el formato adecuado, como por ejemplo el atributo horas_semanales de la tabla profesores, el cual tenía como tipo varchar 100 y fue replantado por Int 4. Se abre la posibilidad de discutir sobre: Agregar la llave foránea, grado de estudio de la tabla profesores, que referencia a la tabla niveles_educativos, atributo: id_nivel. Además de  crear un campo de nacionalidad para estudiantes, referenciando a la tabla de nacionalidad, atributo id_nacionalidad.\n",
    "\n",
    "Los grados académicos de los estudiantes en curso son: 7 estudiantes que tienen bachillerato, 5 licenciaturas, 3 maestrías y 7 técnicos superior universitario.\n",
    "Artículo 33.\n",
    "\n",
    "Del cuerpo estudiantil, 5 estudiantes están activos, mientras que 6 presentan el artículo 33, 4 el artículo 34, 1 está en licencia y 6 aprovecharon los convenios con universidades en el extranjero.\n",
    "\n",
    "La universidad está compuesta por 11 estudiantes femeninas y 11 masculinos.\n",
    "\n",
    "El cuerpo académico de esta universidad, que está compuesto por 10 profesores, todos están adscritos al Sistema Nacional de Investigadoras e Investigadores (SNII). De ellos, 4 están clasificados como SNII I, 5 como SNII II y 1 como SNII III. La distribución de género es equilibrada, con 5 profesores masculinos y 5 femeninos. Además, 4 de los profesores poseen el grado de doctorado, mientras que 6 tienen una maestría. En cuanto a la modalidad de contratación, 6 cuentan con un contrato definitivo, mientras que 4 tienen un contrato permanente o por tiempo indeterminado.\n",
    "\n",
    "A continuación, se detalla la carga horaria de cada profesor:\n",
    "\n",
    "| Código Profesor | Nombre del Profesor                             | Horas Semanales |\n",
    "|-----------------|------------------------------------------------|------------------|\n",
    "| 1111112         | maestro_002 apellido_pat002 apellido_mat002    | 140              |\n",
    "| 1111111         | maestro_001 apellido_pat001 apellido_mat001    | 120              |\n",
    "| 1111113         | maestro_003 apellido_pat003 apellido_mat003    | 120              |\n",
    "| 1111114         | maestro_004 apellido_pat004 apellido_mat004    | 120              |\n",
    "| 1111120         | maestro_010 apellido_pat010 apellido_mat010    | 60               |\n",
    "| 1111119         | maestro_009 apellido_pat009 apellido_mat009    | 50               |\n",
    "| 1111118         | maestro_008 apellido_pat008 apellido_mat008    | 40               |\n",
    "| 1111117         | maestro_007 apellido_pat007 apellido_mat007    | 30               |\n",
    "| 1111116         | maestro_006 apellido_pat006 apellido_mat006    | 20               |\n",
    "| 1111115         | maestro_005 apellido_pat005 apellido_mat005    | 12               |\n",
    "\n",
    "\n",
    "En la encuesta correspondiente al ciclo 2024A, solo 3 profesores incorporaron recursos tecnológicos en su enseñanza, mientras que otros 3 atendieron las necesidades de los estudiantes durante el curso."
   ]
  },
  {
   "cell_type": "markdown",
   "metadata": {},
   "source": [
    "---"
   ]
  },
  {
   "cell_type": "markdown",
   "metadata": {},
   "source": [
    "# <a id=\"7\">7. Referencias<a> 🎓"
   ]
  },
  {
   "cell_type": "markdown",
   "metadata": {},
   "source": [
    "* J. VanderPlas. (2016). Python Data Science Handbook. O'Reilly Media.\n",
    "\n",
    "* UBC MDS. (2019). Material público de los cursos Programación en Python para Data Science y Visualización de datos I del Master in Data Science de UBC.\n",
    "\n",
    "* K. Katari. (Aug 21, 2020).Exploratory Data Analysis(EDA): Python. Towards Data Science.\n",
    "\n",
    "* J.M. Reid. (Oct 14, 2021). 13 ways to access data in Python. Towards Data Science.\n",
    "\n",
    "* A.K. Garg, V. Cuspinera-Contreras, Y. Qian. (Oct 2020). Bike Sharing Machine Learning Model, EDA section.\n",
    "\n",
    "* Pure Storage, Inc. (2022). Datos estructurados frente a datos no estructurados."
   ]
  }
 ],
 "metadata": {
  "kernelspec": {
   "display_name": "Python 3",
   "language": "python",
   "name": "python3"
  },
  "language_info": {
   "codemirror_mode": {
    "name": "ipython",
    "version": 3
   },
   "file_extension": ".py",
   "mimetype": "text/x-python",
   "name": "python",
   "nbconvert_exporter": "python",
   "pygments_lexer": "ipython3",
   "version": "3.12.4"
  }
 },
 "nbformat": 4,
 "nbformat_minor": 2
}
